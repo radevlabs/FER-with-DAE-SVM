{
 "cells": [
  {
   "cell_type": "code",
   "execution_count": 1,
   "metadata": {},
   "outputs": [],
   "source": [
    "import os\n",
    "import numpy as np\n",
    "import pandas as pd"
   ]
  },
  {
   "cell_type": "markdown",
   "metadata": {},
   "source": [
    "### Baca path"
   ]
  },
  {
   "cell_type": "code",
   "execution_count": 2,
   "metadata": {},
   "outputs": [
    {
     "data": {
      "text/plain": [
       "array([['dataset/raw/kdef/AF01/AF01AFS.JPG', 'fear'],\n",
       "       ['dataset/raw/kdef/AF01/AF01ANS.JPG', 'angry'],\n",
       "       ['dataset/raw/kdef/AF01/AF01DIS.JPG', 'disgust'],\n",
       "       ...,\n",
       "       ['dataset/raw/kdef/BM35/BM35NES.JPG', 'neutral'],\n",
       "       ['dataset/raw/kdef/BM35/BM35SAS.JPG', 'sad'],\n",
       "       ['dataset/raw/kdef/BM35/BM35SUS.JPG', 'surprise']], dtype='<U33')"
      ]
     },
     "execution_count": 2,
     "metadata": {},
     "output_type": "execute_result"
    }
   ],
   "source": [
    "eks = ['angry', 'disgust', 'fear', 'happy', 'sad', 'surprise', 'neutral']\n",
    "targets = {'AF' : eks[2], 'AN' : eks[0], 'DI' : eks[1], 'HA' : eks[3], 'NE' : eks[6], 'SA' : eks[4], 'SU' : eks[5]}\n",
    "path = 'dataset/raw/kdef/'\n",
    "filenames = os.listdir(path)\n",
    "dataset = []\n",
    "for filename in filenames:\n",
    "    for fname in os.listdir(f'{path}{filename}'):  \n",
    "        if (fname.split('.')[0])[-1] == 'S':\n",
    "            try:\n",
    "                dataset.append([f'{path}{filename}/{fname}', targets[fname[4:6]]])\n",
    "            except:\n",
    "                print(f'{path}{filename}/{fname}')\n",
    "dataset = np.array(dataset)\n",
    "dataset"
   ]
  },
  {
   "cell_type": "markdown",
   "metadata": {},
   "source": [
    "### Simpan csv"
   ]
  },
  {
   "cell_type": "code",
   "execution_count": 3,
   "metadata": {},
   "outputs": [
    {
     "data": {
      "text/plain": [
       "'List data tersimpan'"
      ]
     },
     "execution_count": 3,
     "metadata": {},
     "output_type": "execute_result"
    }
   ],
   "source": [
    "pd.DataFrame(dataset).to_csv('dataset/kdef.csv', index=False, header=False, sep=';')\n",
    "'List data tersimpan'"
   ]
  },
  {
   "cell_type": "markdown",
   "metadata": {},
   "source": [
    "### Lihat data per ekspresi"
   ]
  },
  {
   "cell_type": "code",
   "execution_count": 4,
   "metadata": {},
   "outputs": [
    {
     "data": {
      "text/plain": [
       "(array(['angry', 'disgust', 'fear', 'happy', 'neutral', 'sad', 'surprise'],\n",
       "       dtype='<U29'), array([140, 140, 140, 140, 140, 140, 140], dtype=int64))"
      ]
     },
     "execution_count": 4,
     "metadata": {},
     "output_type": "execute_result"
    }
   ],
   "source": [
    "dataset = np.loadtxt('dataset/kdef.csv', delimiter=';', dtype='<U')\n",
    "np.unique(dataset[:,1], return_counts=True)"
   ]
  }
 ],
 "metadata": {
  "kernelspec": {
   "display_name": "Python 3",
   "language": "python",
   "name": "python3"
  },
  "language_info": {
   "codemirror_mode": {
    "name": "ipython",
    "version": 3
   },
   "file_extension": ".py",
   "mimetype": "text/x-python",
   "name": "python",
   "nbconvert_exporter": "python",
   "pygments_lexer": "ipython3",
   "version": "3.6.6"
  }
 },
 "nbformat": 4,
 "nbformat_minor": 2
}
