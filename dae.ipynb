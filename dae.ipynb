{
 "cells": [
  {
   "cell_type": "code",
   "execution_count": 1,
   "metadata": {},
   "outputs": [
    {
     "name": "stderr",
     "output_type": "stream",
     "text": [
      "Using TensorFlow backend.\n"
     ]
    }
   ],
   "source": [
    "from joblib import dump, load\n",
    "from help import helper\n",
    "from help.utils import DatasetSequence, Timer\n",
    "from keras.models import load_model\n",
    "from help import helper\n",
    "from keras import backend as K\n",
    "import matplotlib.pyplot as plt\n",
    "import numpy as np\n",
    "import winsound\n",
    "import os\n",
    "import warnings\n",
    "warnings.filterwarnings('ignore')"
   ]
  },
  {
   "cell_type": "markdown",
   "metadata": {},
   "source": [
    "### Train"
   ]
  },
  {
   "cell_type": "code",
   "execution_count": 2,
   "metadata": {},
   "outputs": [
    {
     "name": "stdout",
     "output_type": "stream",
     "text": [
      "(11685, 14500)\n",
      "using gpu with no generator\n",
      "450 model is already learned\n",
      "440 model is already learned\n",
      "430 model is already learned\n",
      "420 model is already learned\n",
      "410 model is already learned\n",
      "400 model is already learned\n",
      "390 model is already learned\n",
      "380 model is already learned\n",
      "370 model is already learned\n",
      "360 model is already learned\n",
      "350 model is already learned\n"
     ]
    }
   ],
   "source": [
    "use_gpu = True\n",
    "use_image_generator = False\n",
    "\n",
    "if not use_gpu:\n",
    "    import os\n",
    "    os.environ['CUDA_VISIBLE_DEVICES'] = '-1'\n",
    "\n",
    "if use_image_generator:\n",
    "    dpaths = os.listdir('dataset/dump')\n",
    "    helper.remove(dpaths, 'desktop.ini')\n",
    "    path = []\n",
    "    for dpath in dpaths:\n",
    "        vectors = []\n",
    "        images = os.listdir(f'dataset/dump/{dpath}')\n",
    "        helper.remove(images, 'desktop.ini')\n",
    "        for image in images:\n",
    "            success = True if image.split('.')[1] == 't' else False\n",
    "            if success:\n",
    "                path.append(f'dataset/dump/{dpath}/{image}')\n",
    "    path = np.array(path)\n",
    "    print(path.shape)\n",
    "else:\n",
    "    x = load('dataset/vectors/ori/all.jlb')[:,:-1]\n",
    "    print(x.shape)\n",
    "\n",
    "hardware = 'gpu' if use_gpu else 'cpu'\n",
    "generator = 'generator' if use_image_generator else 'no generator'\n",
    "\n",
    "print(f'using {hardware} with {generator}')\n",
    "\n",
    "mdl_already = [path.split('.')[3] for path in os.listdir('model/dae')]\n",
    "helper.remove(mdl_already, 'desktop.ini')\n",
    "mdl_already = np.unique(mdl_already)\n",
    "aemdl = helper.aemodels()#.........................................................................percobaan pertama\n",
    "aemdl = aemdl[::-1]\n",
    "aemdl = helper.aemodels(cfrom=550, cto=450, cstep=10, n_layer=1)#..................................percobaan 'all'\n",
    "aemdl = helper.aemodels(hfrom=1000, hto=1000, hstep=1, cfrom=500, cto=400, cstep=10, n_layer=2)#...percobaan Asia Tenggara\n",
    "aemdl = helper.aemodels(cfrom=450, cto=350, cstep=10, n_layer=1)#..................................percobaan Asia Timur\n",
    "aemdl = helper.aemodels(hfrom=1000, hto=1000, hstep=1, cfrom=550, cto=450, cstep=10, n_layer=2)#...percobaan Eropa Utara\n",
    "aemdl = helper.aemodels(cfrom=450, cto=350, cstep=10, n_layer=1)#..................................percobaan Amerika Serikat\n",
    "for mdl in aemdl:\n",
    "    if mdl not in mdl_already:\n",
    "        autoencoder, encoder, model_str, _ = helper.buildDAE(mdl, x.shape[1], h_activation='sigmoid', o_activation='linear')\n",
    "        autoencoder.compile(optimizer='rmsprop', loss='mse')\n",
    "#         autoencoder.summary()\n",
    "        print(f'learning with {model_str} model ({autoencoder.count_params():,})...')\n",
    "        timer = Timer().start()\n",
    "        if use_image_generator:\n",
    "            history = autoencoder.fit_generator(generator=DatasetSequence(path, 32, True, 'threading'), epochs=400)\n",
    "        else:\n",
    "            history = autoencoder.fit(x=x, y=x, epochs=400, batch_size=256, verbose=0)\n",
    "        timer.end()\n",
    "\n",
    "        tstr = timer.summary(f=0)\n",
    "        encoder.save(f'model/dae/{hardware}.{generator}.encoder.{model_str}.{tstr}.h5')\n",
    "        autoencoder.save(f'model/dae/{hardware}.{generator}.autoencoder.{model_str}.{tstr}.h5')\n",
    "        dump(history, f'model/dae/{hardware}.{generator}.history.{model_str}.{tstr}.jlb')\n",
    "        K.clear_session()\n",
    "        print(f'{mdl} model was saved to disk ({timer.summary(f=0)})')\n",
    "    else:\n",
    "        print(f'{mdl} model is already learned')"
   ]
  },
  {
   "cell_type": "markdown",
   "metadata": {},
   "source": [
    "### Plot loss"
   ]
  },
  {
   "cell_type": "code",
   "execution_count": 2,
   "metadata": {},
   "outputs": [
    {
     "name": "stdout",
     "output_type": "stream",
     "text": [
      "0 model/dae/gpu.no generator.history.100.18 menit 56 detik.jlb\n",
      "1 model/dae/gpu.no generator.history.1000-100.27 menit 50 detik.jlb\n",
      "2 model/dae/gpu.no generator.history.1000-150.28 menit 24 detik.jlb\n",
      "3 model/dae/gpu.no generator.history.1000-200.28 menit.jlb\n",
      "4 model/dae/gpu.no generator.history.1000-250.28 menit 51 detik.jlb\n",
      "5 model/dae/gpu.no generator.history.1000-300.28 menit 56 detik.jlb\n",
      "6 model/dae/gpu.no generator.history.1000-350.28 menit 20 detik.jlb\n",
      "7 model/dae/gpu.no generator.history.1000-400.28 menit 11 detik.jlb\n",
      "8 model/dae/gpu.no generator.history.1000-410.28 menit 28 detik.jlb\n",
      "9 model/dae/gpu.no generator.history.1000-420.29 menit 50 detik.jlb\n",
      "10 model/dae/gpu.no generator.history.1000-430.29 menit 8 detik.jlb\n",
      "11 model/dae/gpu.no generator.history.1000-440.28 menit 14 detik.jlb\n",
      "12 model/dae/gpu.no generator.history.1000-450.28 menit 8 detik.jlb\n",
      "13 model/dae/gpu.no generator.history.1000-460.31 menit 32 detik.jlb\n",
      "14 model/dae/gpu.no generator.history.1000-470.31 menit 29 detik.jlb\n",
      "15 model/dae/gpu.no generator.history.1000-480.30 menit 7 detik.jlb\n",
      "16 model/dae/gpu.no generator.history.1000-490.30 menit 12 detik.jlb\n",
      "17 model/dae/gpu.no generator.history.1000-50.28 menit 3 detik.jlb\n",
      "18 model/dae/gpu.no generator.history.1000-500.28 menit 14 detik.jlb\n",
      "19 model/dae/gpu.no generator.history.1000-510.28 menit 34 detik.jlb\n",
      "20 model/dae/gpu.no generator.history.1000-520.28 menit 33 detik.jlb\n",
      "21 model/dae/gpu.no generator.history.1000-530.30 menit 47 detik.jlb\n",
      "22 model/dae/gpu.no generator.history.1000-540.29 menit 7 detik.jlb\n",
      "23 model/dae/gpu.no generator.history.1000-550.29 menit 32 detik.jlb\n",
      "24 model/dae/gpu.no generator.history.1000-900-100.28 menit 33 detik.jlb\n",
      "25 model/dae/gpu.no generator.history.1000-900-150.28 menit 38 detik.jlb\n",
      "26 model/dae/gpu.no generator.history.1000-900-200.28 menit 40 detik.jlb\n",
      "27 model/dae/gpu.no generator.history.1000-900-250.28 menit 43 detik.jlb\n",
      "28 model/dae/gpu.no generator.history.1000-900-300.30 menit 23 detik.jlb\n",
      "29 model/dae/gpu.no generator.history.1000-900-350.32 menit 33 detik.jlb\n",
      "30 model/dae/gpu.no generator.history.1000-900-400.30 menit.jlb\n",
      "31 model/dae/gpu.no generator.history.1000-900-450.30 menit 3 detik.jlb\n",
      "32 model/dae/gpu.no generator.history.1000-900-50.28 menit 25 detik.jlb\n",
      "33 model/dae/gpu.no generator.history.1000-900-500.29 menit 29 detik.jlb\n",
      "34 model/dae/gpu.no generator.history.1000-900-800-100.29 menit 7 detik.jlb\n",
      "35 model/dae/gpu.no generator.history.1000-900-800-150.29 menit 5 detik.jlb\n",
      "36 model/dae/gpu.no generator.history.1000-900-800-200.29 menit 7 detik.jlb\n",
      "37 model/dae/gpu.no generator.history.1000-900-800-250.29 menit 9 detik.jlb\n",
      "38 model/dae/gpu.no generator.history.1000-900-800-300.29 menit 11 detik.jlb\n",
      "39 model/dae/gpu.no generator.history.1000-900-800-350.29 menit 13 detik.jlb\n",
      "40 model/dae/gpu.no generator.history.1000-900-800-400.29 menit 20 detik.jlb\n",
      "41 model/dae/gpu.no generator.history.1000-900-800-450.29 menit 20 detik.jlb\n",
      "42 model/dae/gpu.no generator.history.1000-900-800-50.28 menit 55 detik.jlb\n",
      "43 model/dae/gpu.no generator.history.1000-900-800-500.29 menit 30 detik.jlb\n",
      "44 model/dae/gpu.no generator.history.1000-900-800-700-100.29 menit 35 detik.jlb\n",
      "45 model/dae/gpu.no generator.history.1000-900-800-700-150.29 menit 37 detik.jlb\n",
      "46 model/dae/gpu.no generator.history.1000-900-800-700-200.29 menit 48 detik.jlb\n",
      "47 model/dae/gpu.no generator.history.1000-900-800-700-250.29 menit 35 detik.jlb\n",
      "48 model/dae/gpu.no generator.history.1000-900-800-700-300.29 menit 39 detik.jlb\n",
      "49 model/dae/gpu.no generator.history.1000-900-800-700-350.29 menit 49 detik.jlb\n",
      "50 model/dae/gpu.no generator.history.1000-900-800-700-400.29 menit 44 detik.jlb\n",
      "51 model/dae/gpu.no generator.history.1000-900-800-700-450.29 menit 59 detik.jlb\n",
      "52 model/dae/gpu.no generator.history.1000-900-800-700-50.29 menit 19 detik.jlb\n",
      "53 model/dae/gpu.no generator.history.1000-900-800-700-500.29 menit 49 detik.jlb\n",
      "54 model/dae/gpu.no generator.history.1000-900-800-700-600-100.32 menit 50 detik.jlb\n",
      "55 model/dae/gpu.no generator.history.1000-900-800-700-600-150.32 menit 32 detik.jlb\n",
      "56 model/dae/gpu.no generator.history.1000-900-800-700-600-200.1 jam 22 menit 34 detik.jlb\n",
      "57 model/dae/gpu.no generator.history.1000-900-800-700-600-250.31 menit 20 detik.jlb\n",
      "58 model/dae/gpu.no generator.history.1000-900-800-700-600-300.30 menit 15 detik.jlb\n",
      "59 model/dae/gpu.no generator.history.1000-900-800-700-600-350.30 menit 17 detik.jlb\n",
      "60 model/dae/gpu.no generator.history.1000-900-800-700-600-400.30 menit 7 detik.jlb\n",
      "61 model/dae/gpu.no generator.history.1000-900-800-700-600-450.30 menit 11 detik.jlb\n",
      "62 model/dae/gpu.no generator.history.1000-900-800-700-600-50.31 menit 38 detik.jlb\n",
      "63 model/dae/gpu.no generator.history.1000-900-800-700-600-500.30 menit 8 detik.jlb\n",
      "64 model/dae/gpu.no generator.history.150.19 menit 27 detik.jlb\n",
      "65 model/dae/gpu.no generator.history.2.19 menit 51 detik.jlb\n",
      "66 model/dae/gpu.no generator.history.200.19 menit 43 detik.jlb\n",
      "67 model/dae/gpu.no generator.history.250.20 menit 16 detik.jlb\n",
      "68 model/dae/gpu.no generator.history.300.20 menit 54 detik.jlb\n",
      "69 model/dae/gpu.no generator.history.350.21 menit 18 detik.jlb\n",
      "70 model/dae/gpu.no generator.history.360.21 menit 44 detik.jlb\n",
      "71 model/dae/gpu.no generator.history.370.22 menit.jlb\n",
      "72 model/dae/gpu.no generator.history.380.21 menit 57 detik.jlb\n",
      "73 model/dae/gpu.no generator.history.390.4 jam 1 menit 37 detik.jlb\n",
      "74 model/dae/gpu.no generator.history.400.22 menit.jlb\n",
      "75 model/dae/gpu.no generator.history.410.25 menit 39 detik.jlb\n",
      "76 model/dae/gpu.no generator.history.420.27 menit 32 detik.jlb\n",
      "77 model/dae/gpu.no generator.history.430.26 menit 57 detik.jlb\n",
      "78 model/dae/gpu.no generator.history.440.23 menit 34 detik.jlb\n",
      "79 model/dae/gpu.no generator.history.450.22 menit 23 detik.jlb\n",
      "80 model/dae/gpu.no generator.history.460.23 menit 12 detik.jlb\n",
      "81 model/dae/gpu.no generator.history.470.22 menit 10 detik.jlb\n",
      "82 model/dae/gpu.no generator.history.480.22 menit 7 detik.jlb\n",
      "83 model/dae/gpu.no generator.history.490.22 menit 11 detik.jlb\n",
      "84 model/dae/gpu.no generator.history.50.18 menit 26 detik.jlb\n",
      "85 model/dae/gpu.no generator.history.500.22 menit 47 detik.jlb\n",
      "86 model/dae/gpu.no generator.history.510.22 menit 12 detik.jlb\n",
      "87 model/dae/gpu.no generator.history.520.22 menit 26 detik.jlb\n",
      "88 model/dae/gpu.no generator.history.530.22 menit 31 detik.jlb\n",
      "89 model/dae/gpu.no generator.history.540.22 menit 41 detik.jlb\n",
      "90 model/dae/gpu.no generator.history.550.22 menit 55 detik.jlb\n"
     ]
    }
   ],
   "source": [
    "hpaths = helper.paths('model/dae/')\n",
    "hpaths = hpaths[helper.swhere('history', hpaths)]\n",
    "for idx, h in enumerate(hpaths):\n",
    "    print(f'{idx} {h}')"
   ]
  },
  {
   "cell_type": "code",
   "execution_count": 4,
   "metadata": {},
   "outputs": [
    {
     "name": "stdout",
     "output_type": "stream",
     "text": [
      "load model/dae/gpu.no generator.history.500.22 menit 47 detik.jlb\n",
      "loaded\n",
      "plot\n",
      "plotted\n",
      "[0.0067602561927844074, 0.004960783896350075, 0.0046860829930215325, 0.004425212770786533, 0.004207823768012611, 0.004022564081005692, 0.0038584589178900677, 0.003721909145404181, 0.0036102962480904994, 0.0035073016039512263, 0.0034229400311467173, 0.0033528273217029356, 0.003289002941237507, 0.0032261171562706346, 0.003173947181599673, 0.0031238142475700998, 0.003078039891074962, 0.0030375195800848415, 0.003003160171684995, 0.0029709916344652916, 0.002939800208551625, 0.0029122315530709453, 0.002888662746685422, 0.002869328243477022, 0.0028402022138288964, 0.0028201076639062976, 0.0028037446400785886, 0.0027855011310339113, 0.0027673936733130363, 0.00274927212592098, 0.002731438520634256, 0.0027212239412338205, 0.0027047665501399956, 0.0026890495527220055, 0.0026770823764677328, 0.0026668049524999297, 0.002656703957511534, 0.0026389770174520964, 0.002627793291745453, 0.002623486580848407, 0.0026058053148684847, 0.002599356123985492, 0.0025897429816848865, 0.002579195765163917, 0.002575087971259251, 0.002563258867780967, 0.0025590889143112332, 0.0025472449535080765, 0.002540453658054655, 0.0025313545041946734, 0.002527208564361453, 0.002515697694544162, 0.002510803564107719, 0.002503536127955614, 0.0024919685115420034, 0.002491371801751078, 0.002482009898220812, 0.002471544150387407, 0.002472372588637386, 0.002457574607384386, 0.00245346227438804, 0.0024485060409154577, 0.002446255278799509, 0.0024345266492260243, 0.0024305914370657913, 0.0024145265992341907, 0.002409548626074493, 0.0024027054904050293, 0.0023941429951983384, 0.0023942959279692295, 0.0023836534688704333, 0.002381572440592592, 0.0023776079125735856, 0.0023704290356738895, 0.002363470329448364, 0.002360685277175498, 0.002355031485425824, 0.0023525494977530564, 0.002347004378794712, 0.002338247900054809, 0.002338324339660247, 0.0023339175644091974, 0.0023265734527126167, 0.002327316192408747, 0.002316173118892635, 0.002314450354907131, 0.0023118598406770175, 0.002305220847389078, 0.002299233005973114, 0.0022987632491778477, 0.0022914366471426936, 0.0022926750449821587, 0.002282710665969236, 0.002282837994622244, 0.0022788756274947776, 0.0022767110209263282, 0.002272403894102294, 0.0022669112414821415, 0.0022650409150935602, 0.002261002209164269, 0.002257142608860172, 0.00225571368330397, 0.0022470557630806525, 0.00225110710999033, 0.002242688201630873, 0.0022422276472550875, 0.0022390417526701244, 0.002236274934254641, 0.002231073911231255, 0.0022234833488662463, 0.002233081128987036, 0.0022197203882035406, 0.0022211153482620564, 0.002219101697167443, 0.0022224196134821364, 0.0022078854425192185, 0.002208912968205166, 0.002204105250356471, 0.0022047008401293836, 0.002199752556114662, 0.0022001667559118187, 0.002192489054591216, 0.002195354255301273, 0.0021880022100873122, 0.0021934863036657034, 0.00218533994974692, 0.0021805464316583503, 0.0021829042683531256, 0.0021777859360344667, 0.002172426960403542, 0.0021587755864427914, 0.0021609759328238888, 0.0021649607885820227, 0.0021599651195362344, 0.0021560859282221687, 0.0021527773806459447, 0.0021525801676710063, 0.002146812263321471, 0.002147790708028778, 0.0021409034010486747, 0.002141852678960627, 0.0021406771094890156, 0.0021388881826660904, 0.002136430367237618, 0.0021350916164616742, 0.002133158205442089, 0.002130744396858348, 0.0021253302064315792, 0.00211377704841239, 0.0021178696761254474, 0.0021147448831159345, 0.0021127078178664292, 0.0021076752291733273, 0.0021184991648246143, 0.002103903793913556, 0.00210901602222371, 0.0021067793813211687, 0.002101853665838773, 0.0021000147741574876, 0.0021009349762145264, 0.0020997971142684042, 0.0020962636252115194, 0.0020953963760559154, 0.0020966555923622007, 0.002087857587514848, 0.002089123657749544, 0.0020914930218028102, 0.0020873199396152617, 0.002088105224832497, 0.0020881108311991254, 0.0020845893183647373, 0.0020779496935548107, 0.0020787400637454823, 0.0020759098277422076, 0.0020843850851623253, 0.002072484623385728, 0.0020768321150930573, 0.0020735931637942805, 0.002070140150253321, 0.0020778546753392473, 0.002068260530445041, 0.002069125289319001, 0.002065588871298448, 0.002066168771733107, 0.0020644814061948607, 0.0020611134523929927, 0.0020635645628369194, 0.002059743203964781, 0.002058820989521704, 0.002062989922661205, 0.002057373974628501, 0.002057896707917113, 0.0020529628762792815, 0.002053422421024882, 0.0020538735058785096, 0.0020480413067564657, 0.0020588634618361524, 0.002046760112791616, 0.0020478014727224702, 0.0020479016278575107, 0.0020493763026924448, 0.0020466536590347294, 0.0020460469898906054, 0.002041662025421214, 0.0020448331147867502, 0.0020445965615626797, 0.0020403690361383954, 0.002039827651969505, 0.002040569305481293, 0.002036980131264835, 0.0020389382333116535, 0.002032289168529235, 0.0020356740549471344, 0.0020330840164606624, 0.0020327810759572045, 0.0020350156164822553, 0.002037032983890684, 0.002030588973056131, 0.0020339131706573984, 0.002029544601131631, 0.002028192113586819, 0.0020278880536033395, 0.002026869334953179, 0.002027301843368572, 0.0020307809479293924, 0.00203015474434408, 0.0020232158809482645, 0.002020983140242944, 0.0020275293153407398, 0.0020241100550300426, 0.00202087544822953, 0.0020205181811736544, 0.002014826102501876, 0.0020239362374002293, 0.0020159612716425484, 0.0020160307218155286, 0.002020664680924523, 0.002014192762542763, 0.0020166792965999806, 0.002013741055791213, 0.002013293842063355, 0.0020129431932359603, 0.002011361702795232, 0.002011609339355708, 0.0020154065316623482, 0.0020085516481177707, 0.0020096150332994866, 0.0020144772645130683, 0.002008010746347672, 0.0020067215341517514, 0.002015338725301608, 0.00200025259973828, 0.0020136023076768417, 0.0020043346363171188, 0.0020029504738618958, 0.0020053683718165107, 0.002004274370680393, 0.0020066425154662295, 0.00199811685109845, 0.001999773608841828, 0.002008096675590162, 0.0020019615202134726, 0.002002545759866112, 0.002001941308560895, 0.0020044272557892475, 0.0019953102242419953, 0.001997780864095896, 0.001995837126763288, 0.0019963847720938957, 0.0020000231980115404, 0.001993348927503698, 0.0019963035345432986, 0.0019948301684517044, 0.001989483220162405, 0.0019969582585574065, 0.0019905787143138167, 0.0019961794998511117, 0.001991611366149454, 0.0019977758663268516, 0.001991160265753858, 0.0019912336239448574, 0.0019855131006811196, 0.0019920566178233414, 0.0019909335715974376, 0.001985207004450695, 0.001994895560935516, 0.001986235773783045, 0.0019901890201262165, 0.0019879003294401274, 0.0019861737174525136, 0.0019880851350324593, 0.001986398793600347, 0.00198635228615251, 0.0019831816011272245, 0.0019836962892353905, 0.0019853040232264527, 0.001982915369577779, 0.0019837815333062134, 0.0019828398637656897, 0.001982129654485635, 0.001982353360300097, 0.001985360237331021, 0.0019805497943376263, 0.0019830132010291222, 0.001978960021522102, 0.0019809516291239664, 0.001982983463454974, 0.001977078829324897, 0.0019795248541577687, 0.001976592800686368, 0.0019782126256813496, 0.0019838155446726324, 0.0019749081185187986, 0.0019740491497952446, 0.00197774040874191, 0.001978451972584223, 0.001974509131668672, 0.0019771191593583163, 0.001972355541944899, 0.001974896146669971, 0.001975916324352314, 0.001972586911583736, 0.001971372210922395, 0.001972158100642503, 0.001976220034581725, 0.001969285578071229, 0.0019728823467510463, 0.001967005544371192, 0.0019755071782454, 0.001967430112942827, 0.001974981578898241, 0.0019675191873417524, 0.001971488549630287, 0.001967187583004951, 0.0019666803567353467, 0.0019655547491531813, 0.001970466866110526, 0.001967314230202417, 0.0019646011656377373, 0.0019693745026794517, 0.0019627970708896766, 0.001970653972820812, 0.001971701185040058, 0.001959419021483353, 0.00196730410919282, 0.0019658790098799725, 0.0019660931712420556, 0.0019662598146394272, 0.001960463727649842, 0.0019647254606977482, 0.0019562620035769992, 0.0019681091291832336, 0.001958676197830704, 0.0019667837826378093, 0.001962143999574627, 0.001962888171522933, 0.001968374347137299, 0.0019587301348774804, 0.00196278234561176, 0.0019576899109549333, 0.001963856674052909, 0.0019620263613987624, 0.001955967323310995, 0.0019600180320435345, 0.0019567545294756875, 0.001962009225292534, 0.001958965036199517, 0.0019555205691870418, 0.0019548793321146215, 0.0019565886771744758, 0.0019612793629143386, 0.00195381677614674, 0.001953689050525953, 0.0019586264014333347, 0.0019577385781485877, 0.0019583276708506343, 0.0019505135657622052, 0.001955663976833387, 0.00195861584567702, 0.0019532385250237865, 0.0019540313048671595, 0.0019553946328752306, 0.0019521452754912886, 0.001952407921239603, 0.0019494059016516812, 0.00195488535331233, 0.0019523893531103438, 0.0019456321075196016, 0.001958699193816978, 0.0019455743391683686, 0.0019523048936100466, 0.0019498260836720714, 0.0019481715663433056, 0.001951122092868962, 0.0019498529525176424, 0.0019492763168129483, 0.0019445248400181958, 0.0019445341790575578, 0.0019507449462505318, 0.0019470835712215885]\n"
     ]
    },
    {
     "data": {
      "image/png": "[encoded data removed]",
      "text/plain": [
       "<Figure size 720x720 with 1 Axes>"
      ]
     },
     "metadata": {
      "needs_background": "light"
     },
     "output_type": "display_data"
    }
   ],
   "source": [
    "ke = 85\n",
    "print(f'load {hpaths[ke]}')\n",
    "history = load(hpaths[ke])\n",
    "# history\n",
    "print('loaded')\n",
    "# print(history.history.keys())\n",
    "print('plot')\n",
    "plt.figure(figsize=(10,10))\n",
    "plt.plot(history.history['loss'][:])\n",
    "plt.title('Model Loss (14500-500-14500)')\n",
    "plt.ylabel('loss')\n",
    "plt.xlabel('epoch')\n",
    "print('plotted')\n",
    "# plt.legend(['train', 'test'], loc='upper right')\n",
    "print(history.history['loss'][:])\n",
    "plt.show()"
   ]
  },
  {
   "cell_type": "markdown",
   "metadata": {},
   "source": [
    "### Encode dataset"
   ]
  },
  {
   "cell_type": "code",
   "execution_count": null,
   "metadata": {},
   "outputs": [],
   "source": [
    "epaths = np.array(os.listdir('model/dae'))\n",
    "epaths = epaths[helper.swhere('.encoder', epaths)]\n",
    "dbpaths = np.array(os.listdir('dataset/vectors/ori'))\n",
    "daes = os.listdir('dataset/vectors/dae')\n",
    "for epath in epaths:\n",
    "    ename = epath.split('.')[3]\n",
    "    \n",
    "    # cek apakah perlu encoder atau tidak START\n",
    "    needencoder = False\n",
    "    for dbpath in dbpaths:\n",
    "        dbname = dbpath.split('.')[0]\n",
    "        if f'{dbname}.{ename}.jlb' not in daes:\n",
    "            needencoder = True\n",
    "            break\n",
    "            \n",
    "    if needencoder:\n",
    "        encoder = load_model(f'model/dae/{epath}')\n",
    "        for dbpath in dbpaths:\n",
    "            dbname = dbpath.split('.')[0]\n",
    "            if f'{dbname}.{ename}.jlb' not in daes:\n",
    "                x = load(f'dataset/vectors/ori/{dbpath}')\n",
    "                y = x[:,-1].reshape([x.shape[0], 1])\n",
    "                x = encoder.predict(x[:,:-1])\n",
    "                d = dump(np.hstack([x, y]), f'dataset/vectors/dae/{dbname}.{ename}.jlb')\n",
    "                print(f'saved to {d[0]}')\n",
    "        K.clear_session()"
   ]
  }
 ],
 "metadata": {
  "kernelspec": {
   "display_name": "Python 3",
   "language": "python",
   "name": "python3"
  },
  "language_info": {
   "codemirror_mode": {
    "name": "ipython",
    "version": 3
   },
   "file_extension": ".py",
   "mimetype": "text/x-python",
   "name": "python",
   "nbconvert_exporter": "python",
   "pygments_lexer": "ipython3",
   "version": "3.6.6"
  }
 },
 "nbformat": 4,
 "nbformat_minor": 2
}
