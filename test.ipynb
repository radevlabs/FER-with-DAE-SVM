{
 "cells": [
  {
   "cell_type": "code",
   "execution_count": 1,
   "metadata": {},
   "outputs": [],
   "source": [
    "from help import helper\n",
    "import os\n",
    "import pandas as pd\n",
    "import numpy as np"
   ]
  },
  {
   "cell_type": "code",
   "execution_count": 2,
   "metadata": {},
   "outputs": [
    {
     "data": {
      "text/plain": [
       "array(['500', '450', '400', '350', '300', '250', '200', '150', '100',\n",
       "       '50', '1000-500', '1000-450', '1000-400', '1000-350', '1000-300',\n",
       "       '1000-250', '1000-200', '1000-150', '1000-100', '1000-50',\n",
       "       '1000-900-500', '1000-900-450', '1000-900-400', '1000-900-350',\n",
       "       '1000-900-300', '1000-900-250', '1000-900-200', '1000-900-150',\n",
       "       '1000-900-100', '1000-900-50', '1000-900-800-500',\n",
       "       '1000-900-800-450', '1000-900-800-400', '1000-900-800-350',\n",
       "       '1000-900-800-300', '1000-900-800-250', '1000-900-800-200',\n",
       "       '1000-900-800-150', '1000-900-800-100', '1000-900-800-50',\n",
       "       '1000-900-800-700-500', '1000-900-800-700-450',\n",
       "       '1000-900-800-700-400', '1000-900-800-700-350',\n",
       "       '1000-900-800-700-300', '1000-900-800-700-250',\n",
       "       '1000-900-800-700-200', '1000-900-800-700-150',\n",
       "       '1000-900-800-700-100', '1000-900-800-700-50',\n",
       "       '1000-900-800-700-600-500', '1000-900-800-700-600-450',\n",
       "       '1000-900-800-700-600-400', '1000-900-800-700-600-350',\n",
       "       '1000-900-800-700-600-300', '1000-900-800-700-600-250',\n",
       "       '1000-900-800-700-600-200', '1000-900-800-700-600-150',\n",
       "       '1000-900-800-700-600-100', '1000-900-800-700-600-50'],\n",
       "      dtype='<U24')"
      ]
     },
     "execution_count": 2,
     "metadata": {},
     "output_type": "execute_result"
    }
   ],
   "source": [
    "# c = 1\n",
    "# for aem in helper.aemodels():\n",
    "#     print(c, aem)\n",
    "#     c+=1\n",
    "helper.aemodels()"
   ]
  },
  {
   "cell_type": "markdown",
   "metadata": {},
   "source": [
    "### Baca path"
   ]
  },
  {
   "cell_type": "code",
   "execution_count": 13,
   "metadata": {},
   "outputs": [
    {
     "data": {
      "text/plain": [
       "array([['dataset/raw/test/S001/angry/IMG_20190502_165457_1.jpg', 'angry'],\n",
       "       ['dataset/raw/test/S001/angry/IMG_20190502_165459.jpg', 'angry'],\n",
       "       ['dataset/raw/test/S001/angry/IMG_20190502_165500.jpg', 'angry'],\n",
       "       ['dataset/raw/test/S001/angry/IMG_20190502_165501.jpg', 'angry'],\n",
       "       ['dataset/raw/test/S001/angry/IMG_20190502_165505.jpg', 'angry'],\n",
       "       ['dataset/raw/test/S001/angry/IMG_20190502_165506.jpg', 'angry'],\n",
       "       ['dataset/raw/test/S001/angry/IMG_20190502_165506_2.jpg', 'angry'],\n",
       "       ['dataset/raw/test/S001/angry/IMG_20190502_165508.jpg', 'angry'],\n",
       "       ['dataset/raw/test/S001/angry/IMG_20190502_165508_2.jpg', 'angry'],\n",
       "       ['dataset/raw/test/S001/angry/IMG_20190502_165509_1.jpg', 'angry'],\n",
       "       ['dataset/raw/test/S001/angry/IMG_20190502_165510.jpg', 'angry'],\n",
       "       ['dataset/raw/test/S001/disgust/IMG_20190502_165640.jpg',\n",
       "        'disgust'],\n",
       "       ['dataset/raw/test/S001/disgust/IMG_20190502_165641.jpg',\n",
       "        'disgust'],\n",
       "       ['dataset/raw/test/S001/disgust/IMG_20190502_165642.jpg',\n",
       "        'disgust'],\n",
       "       ['dataset/raw/test/S001/disgust/IMG_20190502_165643.jpg',\n",
       "        'disgust'],\n",
       "       ['dataset/raw/test/S001/disgust/IMG_20190502_165652_1.jpg',\n",
       "        'disgust'],\n",
       "       ['dataset/raw/test/S001/disgust/IMG_20190502_165653_1.jpg',\n",
       "        'disgust'],\n",
       "       ['dataset/raw/test/S001/disgust/IMG_20190502_165654_1.jpg',\n",
       "        'disgust'],\n",
       "       ['dataset/raw/test/S001/disgust/IMG_20190502_165655_1.jpg',\n",
       "        'disgust'],\n",
       "       ['dataset/raw/test/S001/disgust/IMG_20190502_165656_1.jpg',\n",
       "        'disgust']], dtype='<U56')"
      ]
     },
     "execution_count": 13,
     "metadata": {},
     "output_type": "execute_result"
    }
   ],
   "source": [
    "people = os.listdir('dataset/raw/test')\n",
    "helper.remove(people, 'desktop.ini')\n",
    "dataset = []\n",
    "for person in people:\n",
    "    expressions = os.listdir(f'dataset/raw/test/{person}')\n",
    "    helper.remove(expressions, 'desktop.ini')\n",
    "    for expression in expressions:\n",
    "        images = os.listdir(f'dataset/raw/test/{person}/{expression}')\n",
    "        helper.remove(images, 'desktop.ini')\n",
    "        for image in images:\n",
    "            dataset.append([f'dataset/raw/test/{person}/{expression}/{image}', expression])\n",
    "dataset = np.array(dataset)\n",
    "dataset[:20]"
   ]
  },
  {
   "cell_type": "markdown",
   "metadata": {},
   "source": [
    "### Simpan csv"
   ]
  },
  {
   "cell_type": "code",
   "execution_count": 14,
   "metadata": {},
   "outputs": [
    {
     "data": {
      "text/plain": [
       "'List data tersimpan'"
      ]
     },
     "execution_count": 14,
     "metadata": {},
     "output_type": "execute_result"
    }
   ],
   "source": [
    "pd.DataFrame(dataset).to_csv('dataset/test.csv', index=False, header=False, sep=';')\n",
    "'List data tersimpan'"
   ]
  },
  {
   "cell_type": "markdown",
   "metadata": {},
   "source": [
    "### Lihat data per ekspresi"
   ]
  },
  {
   "cell_type": "code",
   "execution_count": 15,
   "metadata": {},
   "outputs": [
    {
     "data": {
      "text/plain": [
       "((array(['angry', 'disgust', 'fear', 'happy', 'neutral', 'sad', 'surprise'],\n",
       "        dtype='<U56'), array([41, 43, 30, 41, 40, 41, 41], dtype=int64)),\n",
       " (277, 2))"
      ]
     },
     "execution_count": 15,
     "metadata": {},
     "output_type": "execute_result"
    }
   ],
   "source": [
    "dataset = np.loadtxt('dataset/test.csv', delimiter=';', dtype='<U')\n",
    "np.unique(dataset[:,1], return_counts=True), dataset.shape"
   ]
  }
 ],
 "metadata": {
  "kernelspec": {
   "display_name": "Python 3",
   "language": "python",
   "name": "python3"
  },
  "language_info": {
   "codemirror_mode": {
    "name": "ipython",
    "version": 3
   },
   "file_extension": ".py",
   "mimetype": "text/x-python",
   "name": "python",
   "nbconvert_exporter": "python",
   "pygments_lexer": "ipython3",
   "version": "3.6.6"
  }
 },
 "nbformat": 4,
 "nbformat_minor": 2
}
