{
 "cells": [
  {
   "cell_type": "code",
   "execution_count": 2,
   "metadata": {},
   "outputs": [
    {
     "name": "stderr",
     "output_type": "stream",
     "text": [
      "Using TensorFlow backend.\n"
     ]
    }
   ],
   "source": [
    "from help import helper\n",
    "import os\n",
    "import pandas as pd\n",
    "import numpy as np"
   ]
  },
  {
   "cell_type": "markdown",
   "metadata": {},
   "source": [
    "### Baca path"
   ]
  },
  {
   "cell_type": "code",
   "execution_count": 3,
   "metadata": {},
   "outputs": [
    {
     "data": {
      "text/plain": [
       "array([['dataset/raw/caspeal/FM_000046_IEU+00_PM+00_EF_A0_D0_T0_BB_M0_R1_S0.tif',\n",
       "        'angry'],\n",
       "       ['dataset/raw/caspeal/FM_000046_IEU+00_PM+00_EL_A0_D0_T0_BB_M0_R1_S0.tif',\n",
       "        'happy'],\n",
       "       ['dataset/raw/caspeal/FM_000046_IEU+00_PM+00_EN_A0_D0_T0_BB_M0_R1_S0.tif',\n",
       "        'neutral'],\n",
       "       ...,\n",
       "       ['dataset/raw/caspeal/MY_001040_IEU+00_PM+00_EN_A0_D0_T0_BB_M0_R0_S0.tif',\n",
       "        'neutral'],\n",
       "       ['dataset/raw/caspeal/MY_001041_IEU+00_PM+00_EN_A0_D0_T0_BB_M0_R0_S0.tif',\n",
       "        'neutral'],\n",
       "       ['dataset/raw/caspeal/MY_001042_IEU+00_PM+00_EN_A0_D0_T0_BB_M0_R0_S0.tif',\n",
       "        'neutral']], dtype='<U70')"
      ]
     },
     "execution_count": 3,
     "metadata": {},
     "output_type": "execute_result"
    }
   ],
   "source": [
    "images = os.listdir('dataset/raw/caspeal')\n",
    "helper.remove(images, 'desktop.ini')\n",
    "targets = {'EC':'closed eyes', 'EF': 'angry', 'EL': 'happy', 'EN': 'neutral', 'EO': 'open mouth', 'ES': 'surprise'}\n",
    "dataset = []\n",
    "for image in images:\n",
    "    target = image.split('_')[4]\n",
    "    if target in ['EF', 'EL', 'EN', 'ES']:\n",
    "        target = targets[target]\n",
    "        path = f'dataset/raw/caspeal/{image}'\n",
    "        dataset.append([path, target])\n",
    "dataset = np.array(dataset)\n",
    "dataset"
   ]
  },
  {
   "cell_type": "markdown",
   "metadata": {},
   "source": [
    "### Simpan csv"
   ]
  },
  {
   "cell_type": "code",
   "execution_count": 4,
   "metadata": {},
   "outputs": [
    {
     "data": {
      "text/plain": [
       "'List data tersimpan'"
      ]
     },
     "execution_count": 4,
     "metadata": {},
     "output_type": "execute_result"
    }
   ],
   "source": [
    "pd.DataFrame(dataset).to_csv('dataset/caspeal.csv', index=False, header=False, sep=';')\n",
    "'List data tersimpan'"
   ]
  },
  {
   "cell_type": "markdown",
   "metadata": {},
   "source": [
    "### Lihat data per ekspresi"
   ]
  },
  {
   "cell_type": "code",
   "execution_count": 5,
   "metadata": {},
   "outputs": [
    {
     "data": {
      "text/plain": [
       "((array(['angry', 'happy', 'neutral', 'surprise'], dtype='<U70'),\n",
       "  array([ 377,  377, 1040,  377], dtype=int64)),\n",
       " (2171, 2))"
      ]
     },
     "execution_count": 5,
     "metadata": {},
     "output_type": "execute_result"
    }
   ],
   "source": [
    "dataset = np.loadtxt('dataset/caspeal.csv', delimiter=';', dtype='<U')\n",
    "np.unique(dataset[:,1], return_counts=True), dataset.shape"
   ]
  }
 ],
 "metadata": {
  "kernelspec": {
   "display_name": "Python 3",
   "language": "python",
   "name": "python3"
  },
  "language_info": {
   "codemirror_mode": {
    "name": "ipython",
    "version": 3
   },
   "file_extension": ".py",
   "mimetype": "text/x-python",
   "name": "python",
   "nbconvert_exporter": "python",
   "pygments_lexer": "ipython3",
   "version": "3.6.6"
  }
 },
 "nbformat": 4,
 "nbformat_minor": 2
}
