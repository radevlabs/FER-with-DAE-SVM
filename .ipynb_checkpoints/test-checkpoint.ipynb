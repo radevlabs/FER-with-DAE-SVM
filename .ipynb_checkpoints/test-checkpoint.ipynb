{
 "cells": [
  {
   "cell_type": "code",
   "execution_count": 2,
   "metadata": {},
   "outputs": [
    {
     "name": "stderr",
     "output_type": "stream",
     "text": [
      "Using TensorFlow backend.\n"
     ]
    }
   ],
   "source": [
    "from help import helper\n",
    "import os\n",
    "import pandas as pd\n",
    "import numpy as np"
   ]
  },
  {
   "cell_type": "markdown",
   "metadata": {},
   "source": [
    "### Baca path"
   ]
  },
  {
   "cell_type": "code",
   "execution_count": 3,
   "metadata": {},
   "outputs": [
    {
     "data": {
      "text/plain": [
       "array([['dataset/raw/hijrah/001 P001/happy/IMG_20190323_164444.jpg',\n",
       "        'happy'],\n",
       "       ['dataset/raw/hijrah/001 P001/happy/IMG_20190323_164445.jpg',\n",
       "        'happy'],\n",
       "       ['dataset/raw/hijrah/001 P001/happy/IMG_20190323_164446.jpg',\n",
       "        'happy'],\n",
       "       ...,\n",
       "       ['dataset/raw/hijrah/021 W011/surprise/IMG_20190414_140845.jpg',\n",
       "        'surprise'],\n",
       "       ['dataset/raw/hijrah/021 W011/surprise/IMG_20190414_140854.jpg',\n",
       "        'surprise'],\n",
       "       ['dataset/raw/hijrah/021 W011/surprise/IMG_20190414_140913.jpg',\n",
       "        'surprise']], dtype='<U71')"
      ]
     },
     "execution_count": 3,
     "metadata": {},
     "output_type": "execute_result"
    }
   ],
   "source": [
    "people = os.listdir('dataset/raw/hijrah')\n",
    "helper.remove(people, 'desktop.ini')\n",
    "dataset = []\n",
    "for person in people:\n",
    "    expressions = os.listdir(f'dataset/raw/hijrah/{person}')\n",
    "    helper.remove(expressions, 'desktop.ini')\n",
    "    for expression in expressions:\n",
    "        images = os.listdir(f'dataset/raw/hijrah/{person}/{expression}')\n",
    "        helper.remove(images, 'desktop.ini')\n",
    "        for image in images:\n",
    "            dataset.append([f'dataset/raw/hijrah/{person}/{expression}/{image}', expression])\n",
    "dataset = np.array(dataset)\n",
    "dataset"
   ]
  },
  {
   "cell_type": "markdown",
   "metadata": {},
   "source": [
    "### Simpan csv"
   ]
  },
  {
   "cell_type": "code",
   "execution_count": 4,
   "metadata": {},
   "outputs": [
    {
     "data": {
      "text/plain": [
       "'List data tersimpan'"
      ]
     },
     "execution_count": 4,
     "metadata": {},
     "output_type": "execute_result"
    }
   ],
   "source": [
    "pd.DataFrame(dataset).to_csv('dataset/hijrah.csv', index=False, header=False, sep=';')\n",
    "'List data tersimpan'"
   ]
  },
  {
   "cell_type": "markdown",
   "metadata": {},
   "source": [
    "### Lihat data per ekspresi"
   ]
  },
  {
   "cell_type": "code",
   "execution_count": 5,
   "metadata": {},
   "outputs": [
    {
     "data": {
      "text/plain": [
       "((array(['angry', 'disgust', 'fear', 'happy', 'neutral', 'sad', 'surprise'],\n",
       "        dtype='<U71'),\n",
       "  array([336, 360, 304, 393, 412, 352, 412], dtype=int64)),\n",
       " (2569, 2))"
      ]
     },
     "execution_count": 5,
     "metadata": {},
     "output_type": "execute_result"
    }
   ],
   "source": [
    "dataset = np.loadtxt('dataset/hijrah.csv', delimiter=';', dtype='<U')\n",
    "np.unique(dataset[:,1], return_counts=True), dataset.shape"
   ]
  }
 ],
 "metadata": {
  "kernelspec": {
   "display_name": "Python 3",
   "language": "python",
   "name": "python3"
  },
  "language_info": {
   "codemirror_mode": {
    "name": "ipython",
    "version": 3
   },
   "file_extension": ".py",
   "mimetype": "text/x-python",
   "name": "python",
   "nbconvert_exporter": "python",
   "pygments_lexer": "ipython3",
   "version": "3.6.6"
  }
 },
 "nbformat": 4,
 "nbformat_minor": 2
}
