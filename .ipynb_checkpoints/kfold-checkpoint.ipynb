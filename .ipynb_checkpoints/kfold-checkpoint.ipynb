{
 "cells": [
  {
   "cell_type": "code",
   "execution_count": 1,
   "metadata": {},
   "outputs": [
    {
     "name": "stderr",
     "output_type": "stream",
     "text": [
      "Using TensorFlow backend.\n"
     ]
    }
   ],
   "source": [
    "from sklearn.model_selection import KFold\n",
    "from joblib import load, dump\n",
    "from help import helper as hp\n",
    "import numpy as np\n",
    "import os"
   ]
  },
  {
   "cell_type": "markdown",
   "metadata": {},
   "source": [
    "### Pecah dataset"
   ]
  },
  {
   "cell_type": "code",
   "execution_count": 5,
   "metadata": {},
   "outputs": [
    {
     "data": {
      "text/plain": [
       "'saved to dataset/kfold.json'"
      ]
     },
     "execution_count": 5,
     "metadata": {},
     "output_type": "execute_result"
    }
   ],
   "source": [
    "dpath = np.array(os.listdir('dataset/vectors/ori'))\n",
    "dpath = dpath[hp.swhere('jlb', dpath) & hp.swhere('all', dpath, True)]\n",
    "kfold = {}\n",
    "for path in dpath:\n",
    "    dataset = load(f'dataset/vectors/ori/{path}')[:,:-1]\n",
    "    kf = KFold(n_splits=5)\n",
    "    dname = path.split('.')[0]\n",
    "    kfold[dname] = {}\n",
    "    for idx, (train_index, test_index) in enumerate(kf.split(dataset)):\n",
    "        kfold[dname][f'Fold {idx}'] = {\n",
    "            'train': {dname: train_index.tolist()},\n",
    "            'test': {dname: test_index.tolist()}\n",
    "        }\n",
    "hp.savejson('dataset/kfold.json', kfold)"
   ]
  },
  {
   "cell_type": "markdown",
   "metadata": {},
   "source": [
    "### Gabungkan Fold per dataset (all)"
   ]
  },
  {
   "cell_type": "code",
   "execution_count": 6,
   "metadata": {},
   "outputs": [
    {
     "data": {
      "text/plain": [
       "(dict_keys(['caspeal', 'ck+', 'facesdb', 'hijrah', 'jaffe', 'kdef', 'nvie', 'all']),\n",
       " 'saved to dataset/kfold.json')"
      ]
     },
     "execution_count": 6,
     "metadata": {},
     "output_type": "execute_result"
    }
   ],
   "source": [
    "kfold = hp.loadjson('dataset/kfold.json')\n",
    "keys = list(kfold.keys())\n",
    "hp.remove(keys, 'all')\n",
    "kfold['all'] = {}\n",
    "for c in range(5):\n",
    "    kfold['all'][f'Fold {c}'] = {'train': {}, 'test': {}}\n",
    "    for key in keys:\n",
    "        kfold['all'][f'Fold {c}']['train'][key] = kfold[key][f'Fold {c}']['train'][key]\n",
    "        kfold['all'][f'Fold {c}']['test'][key] = kfold[key][f'Fold {c}']['test'][key]\n",
    "kfold.keys(), hp.savejson('dataset/kfold.json', kfold)"
   ]
  },
  {
   "cell_type": "markdown",
   "metadata": {},
   "source": [
    "### Dataset per race"
   ]
  },
  {
   "cell_type": "code",
   "execution_count": 7,
   "metadata": {},
   "outputs": [
    {
     "data": {
      "text/plain": [
       "(dict_keys(['caspeal', 'ck+', 'facesdb', 'hijrah', 'jaffe', 'kdef', 'nvie', 'all', 'race Asia Tenggara', 'race Asia Timur', 'race Eropa Utara', 'race Amerika Serikat']),\n",
       " 'saved to dataset/kfold.json')"
      ]
     },
     "execution_count": 7,
     "metadata": {},
     "output_type": "execute_result"
    }
   ],
   "source": [
    "race = {\n",
    "    'race Asia Tenggara': ['hijrah'],\n",
    "    'race Asia Timur': ['jaffe', 'caspeal', 'nvie'],\n",
    "    'race Eropa Utara': ['kdef'],\n",
    "    'race Amerika Serikat': ['ck+', 'facesdb']\n",
    "}\n",
    "kfold = hp.loadjson('dataset/kfold.json')\n",
    "for key in race:\n",
    "    kfold[key] = {}\n",
    "    for c in range(5):\n",
    "        kfold[key][f'Fold {c}'] = {'train': {}, 'test': {}}\n",
    "        for dkey in race[key]:\n",
    "            kfold[key][f'Fold {c}']['train'][dkey] = kfold[dkey][f'Fold {c}']['train'][dkey]\n",
    "            kfold[key][f'Fold {c}']['test'][dkey] = kfold[dkey][f'Fold {c}']['test'][dkey]\n",
    "kfold.keys(), hp.savejson('dataset/kfold.json', kfold)"
   ]
  }
 ],
 "metadata": {
  "kernelspec": {
   "display_name": "Python 3",
   "language": "python",
   "name": "python3"
  },
  "language_info": {
   "codemirror_mode": {
    "name": "ipython",
    "version": 3
   },
   "file_extension": ".py",
   "mimetype": "text/x-python",
   "name": "python",
   "nbconvert_exporter": "python",
   "pygments_lexer": "ipython3",
   "version": "3.6.6"
  }
 },
 "nbformat": 4,
 "nbformat_minor": 2
}
