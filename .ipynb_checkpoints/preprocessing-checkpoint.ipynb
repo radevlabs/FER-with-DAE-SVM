{
 "cells": [
  {
   "cell_type": "code",
   "execution_count": 1,
   "metadata": {},
   "outputs": [],
   "source": [
    "from progressbar import progressbar\n",
    "from help import helper\n",
    "from skimage.feature import local_binary_pattern, hog\n",
    "from joblib import dump, load\n",
    "from sklearn.model_selection import KFold\n",
    "import numpy as np\n",
    "import cv2\n",
    "import matplotlib.pyplot as plt\n",
    "import warnings\n",
    "import os\n",
    "import time\n",
    "\n",
    "warnings.filterwarnings('ignore')"
   ]
  },
  {
   "cell_type": "markdown",
   "metadata": {},
   "source": [
    "### Target"
   ]
  },
  {
   "cell_type": "code",
   "execution_count": 7,
   "metadata": {},
   "outputs": [],
   "source": [
    "expressions = ['angry', 'disgust', 'fear', 'happy', 'sad', 'surprise', 'neutral']"
   ]
  },
  {
   "cell_type": "markdown",
   "metadata": {},
   "source": [
    "### JAFFE (Japanese Female Facial Expression) => Jepang | Asia Timur"
   ]
  },
  {
   "cell_type": "code",
   "execution_count": 10,
   "metadata": {},
   "outputs": [
    {
     "data": {
      "text/plain": [
       "(213, 2)"
      ]
     },
     "execution_count": 10,
     "metadata": {},
     "output_type": "execute_result"
    }
   ],
   "source": [
    "dataset = np.loadtxt('dataset/jaffe.csv', delimiter=';', dtype='<U')\n",
    "dataset_name = 'jaffe'\n",
    "dataset.shape"
   ]
  },
  {
   "cell_type": "markdown",
   "metadata": {},
   "source": [
    "### KDEF (Karolinska Directed Emotional Faces) => Swedia | Eropa Utara"
   ]
  },
  {
   "cell_type": "code",
   "execution_count": 14,
   "metadata": {},
   "outputs": [
    {
     "data": {
      "text/plain": [
       "(980, 2)"
      ]
     },
     "execution_count": 14,
     "metadata": {},
     "output_type": "execute_result"
    }
   ],
   "source": [
    "dataset = np.loadtxt('dataset/kdef.csv', delimiter=';', dtype='<U')\n",
    "dataset_name = 'kdef'\n",
    "dataset.shape"
   ]
  },
  {
   "cell_type": "markdown",
   "metadata": {},
   "source": [
    "### CK+ (Extended Cohn-Kanade) => Pennsylvania | Amerika Serikat"
   ]
  },
  {
   "cell_type": "code",
   "execution_count": 16,
   "metadata": {},
   "outputs": [
    {
     "data": {
      "text/plain": [
       "(1563, 2)"
      ]
     },
     "execution_count": 16,
     "metadata": {},
     "output_type": "execute_result"
    }
   ],
   "source": [
    "dataset = np.loadtxt('dataset/ck+.csv', delimiter=';', dtype='<U')\n",
    "dataset_name = 'ck+'\n",
    "dataset.shape"
   ]
  },
  {
   "cell_type": "markdown",
   "metadata": {},
   "source": [
    "### CAS-PEAL (Chinese Academy of Sciences - Pose, Expression, Accessory, and Lighting) => Cina | Asia Timur"
   ]
  },
  {
   "cell_type": "code",
   "execution_count": 18,
   "metadata": {},
   "outputs": [
    {
     "data": {
      "text/plain": [
       "(2171, 2)"
      ]
     },
     "execution_count": 18,
     "metadata": {},
     "output_type": "execute_result"
    }
   ],
   "source": [
    "dataset = np.loadtxt('dataset/caspeal.csv', delimiter=';', dtype='<U')\n",
    "dataset_name = 'caspeal'\n",
    "dataset.shape"
   ]
  },
  {
   "cell_type": "markdown",
   "metadata": {},
   "source": [
    "### FacesDB => Brazil | Amerika Serikat"
   ]
  },
  {
   "cell_type": "code",
   "execution_count": 20,
   "metadata": {},
   "outputs": [
    {
     "data": {
      "text/plain": [
       "(252, 2)"
      ]
     },
     "execution_count": 20,
     "metadata": {},
     "output_type": "execute_result"
    }
   ],
   "source": [
    "dataset = np.loadtxt('dataset/facesdb.csv', delimiter=';', dtype='<U')\n",
    "dataset_name = 'facesdb'\n",
    "dataset.shape"
   ]
  },
  {
   "cell_type": "markdown",
   "metadata": {},
   "source": [
    "### Hijrah => Indonesia | Asia Tenggara"
   ]
  },
  {
   "cell_type": "code",
   "execution_count": 22,
   "metadata": {},
   "outputs": [
    {
     "data": {
      "text/plain": [
       "(2569, 2)"
      ]
     },
     "execution_count": 22,
     "metadata": {},
     "output_type": "execute_result"
    }
   ],
   "source": [
    "dataset = np.loadtxt('dataset/hijrah.csv', delimiter=';', dtype='<U')\n",
    "dataset_name = 'hijrah'\n",
    "dataset.shape"
   ]
  },
  {
   "cell_type": "markdown",
   "metadata": {},
   "source": [
    "### NVIE (Natural Visible and Infrared facial Expression) => Cina | Asia Timur"
   ]
  },
  {
   "cell_type": "code",
   "execution_count": 24,
   "metadata": {},
   "outputs": [
    {
     "data": {
      "text/plain": [
       "(3977, 2)"
      ]
     },
     "execution_count": 24,
     "metadata": {},
     "output_type": "execute_result"
    }
   ],
   "source": [
    "dataset = np.loadtxt('dataset/nvie.csv', delimiter=';', dtype='<U')\n",
    "dataset_name = 'nvie'\n",
    "dataset.shape"
   ]
  },
  {
   "cell_type": "markdown",
   "metadata": {},
   "source": [
    "### Test"
   ]
  },
  {
   "cell_type": "code",
   "execution_count": 13,
   "metadata": {},
   "outputs": [
    {
     "data": {
      "text/plain": [
       "(277, 2)"
      ]
     },
     "execution_count": 13,
     "metadata": {},
     "output_type": "execute_result"
    }
   ],
   "source": [
    "dataset = np.loadtxt('dataset/test.csv', delimiter=';', dtype='<U')\n",
    "dataset_name = 'test'\n",
    "dataset.shape"
   ]
  },
  {
   "cell_type": "markdown",
   "metadata": {},
   "source": [
    "### Deteksi Wajah"
   ]
  },
  {
   "cell_type": "code",
   "execution_count": null,
   "metadata": {},
   "outputs": [],
   "source": [
    "s = 128\n",
    "c = 0\n",
    "feature = 'haar'\n",
    "for path, target in progressbar(dataset, prefix=f'{dataset_name} detecting face...'):\n",
    "    img = cv2.imread(path)\n",
    "    img = helper.dresize(img, 256)\n",
    "    faces = helper.face_detection(img, feature=feature, scaleFactor=1.175)\n",
    "    for x1, x2, y1, y2, w, h, wide in faces:\n",
    "        im = img[y1:y2,x1:x2]\n",
    "        im = helper.crop_square(im, side=0, size=(s, s))\n",
    "        cv2.imwrite(f'dataset/dump/{dataset_name}/{target}_{c:05d}.t.png', im)\n",
    "        c += 1"
   ]
  },
  {
   "cell_type": "markdown",
   "metadata": {},
   "source": [
    "### Ekstraksi Fitur"
   ]
  },
  {
   "cell_type": "code",
   "execution_count": null,
   "metadata": {},
   "outputs": [],
   "source": [
    "feature = 'haar'\n",
    "dpaths = os.listdir(f'dataset/dump/{feature}')\n",
    "helper.remove(dpaths, 'desktop.ini')\n",
    "scores = {}\n",
    "for dpath in dpaths:\n",
    "    vectors = []\n",
    "    images = os.listdir(f'dataset/dump/{feature}/{dpath}')\n",
    "    helper.remove(images, 'desktop.ini')\n",
    "    scores[dpath] = {'jumlah':np.loadtxt(f'dataset/{dpath}.csv', delimiter=';', dtype='<U').shape[0], 't':0, 'f':0}\n",
    "    for img in progressbar(images, prefix=f'preprocessing {dpath}  '):\n",
    "        success = True if img.split('.')[1] == 't' else False\n",
    "        if success:\n",
    "            target = img.split('_')[0]\n",
    "            img = cv2.imread(f'dataset/dump/{feature}/{dpath}/{img}', cv2.IMREAD_GRAYSCALE)\n",
    "            vector = []\n",
    "            vector.extend(hog(img, orientations=9, pixels_per_cell=(8, 8), cells_per_block=(2, 2)))\n",
    "            vector.extend(helper.lbph(local_binary_pattern(img, P=8, R=1), size=(26, 26), normed=True))\n",
    "            vector.append(expressions.index(target))\n",
    "            vectors.append(vector)\n",
    "            scores[dpath]['t'] += 1\n",
    "        else:\n",
    "            scores[dpath]['f'] += 1\n",
    "    vectors = np.array(vectors)\n",
    "    np.random.shuffle(vectors)\n",
    "    dump(vectors, f'dataset/vectors/ori/{dpath}.jlb')\n",
    "    del vectors\n",
    "helper.savejson(f'score/facedetection_{feature}.json', scores)"
   ]
  },
  {
   "cell_type": "markdown",
   "metadata": {},
   "source": [
    "### Akurasi face detection"
   ]
  },
  {
   "cell_type": "code",
   "execution_count": 9,
   "metadata": {},
   "outputs": [
    {
     "name": "stdout",
     "output_type": "stream",
     "text": [
      "caspeal\n",
      " jumlah  : 2171 | terdeteksi benar : 2156 | terdeteksi salah : 27\n",
      " akurasi : 98.07%\n",
      "ck+\n",
      " jumlah  : 1563 | terdeteksi benar : 1562 | terdeteksi salah : 0\n",
      " akurasi : 99.94%\n",
      "facesdb\n",
      " jumlah  : 252 | terdeteksi benar : 252 | terdeteksi salah : 2\n",
      " akurasi : 99.21%\n",
      "hijrah\n",
      " jumlah  : 2569 | terdeteksi benar : 2568 | terdeteksi salah : 67\n",
      " akurasi : 97.35%\n",
      "jaffe\n",
      " jumlah  : 213 | terdeteksi benar : 213 | terdeteksi salah : 0\n",
      " akurasi : 100.00%\n",
      "kdef\n",
      " jumlah  : 980 | terdeteksi benar : 980 | terdeteksi salah : 0\n",
      " akurasi : 100.00%\n",
      "nvie\n",
      " jumlah  : 3977 | terdeteksi benar : 3954 | terdeteksi salah : 7\n",
      " akurasi : 99.25%\n",
      "all\n",
      " jumlah  : 11725 | terdeteksi benar : 11685 | terdeteksi salah : 103\n",
      " akurasi : 98.78%\n"
     ]
    }
   ],
   "source": [
    "scores = helper.loadjson('score/facedetection_haar.json')\n",
    "jumlah = 0\n",
    "t = 0\n",
    "f = 0\n",
    "meanacc = []\n",
    "for key in scores.keys():\n",
    "    print(key)\n",
    "    print(f\" jumlah  : {scores[key]['jumlah']} | terdeteksi benar : {scores[key]['t']} | terdeteksi salah : {scores[key]['f']}\")\n",
    "    acc = (scores[key]['jumlah'] - ((scores[key]['jumlah'] - scores[key]['t']) + scores[key]['f'])) / scores[key]['jumlah'] * 100\n",
    "    print(f\" akurasi : {acc:0.02f}%\")\n",
    "    jumlah += scores[key]['jumlah']\n",
    "    t += scores[key]['t']\n",
    "    f += scores[key]['f']\n",
    "    meanacc.append(acc)\n",
    "meanacc = np.array(meanacc).mean()\n",
    "print('all')\n",
    "print(f' jumlah  : {jumlah} | terdeteksi benar : {t} | terdeteksi salah : {f}')\n",
    "print(f' akurasi : {(jumlah - (jumlah - t + f)) / jumlah * 100:0.02f}%')"
   ]
  },
  {
   "cell_type": "markdown",
   "metadata": {},
   "source": [
    "### Gabung Semua Dataset"
   ]
  },
  {
   "cell_type": "code",
   "execution_count": 10,
   "metadata": {},
   "outputs": [
    {
     "name": "stdout",
     "output_type": "stream",
     "text": [
      "(11685, 14501)\n"
     ]
    }
   ],
   "source": [
    "dpath = [s for s in os.listdir('dataset/vectors/ori') if 'jlb' in s]\n",
    "helper.remove(dpath, 'all.jlb')\n",
    "all_dataset = []\n",
    "for dataset in dpath:\n",
    "    ds = load(f'dataset/vectors/ori/{dataset}')\n",
    "    all_dataset.extend(ds)\n",
    "all_dataset = np.array(all_dataset)\n",
    "np.random.shuffle(all_dataset)\n",
    "dump(all_dataset, f'dataset/vectors/ori/all.jlb')\n",
    "print(all_dataset.shape)\n",
    "del ds\n",
    "del all_dataset"
   ]
  },
  {
   "cell_type": "markdown",
   "metadata": {},
   "source": [
    "### Ilustrasi"
   ]
  },
  {
   "cell_type": "code",
   "execution_count": 11,
   "metadata": {},
   "outputs": [
    {
     "name": "stdout",
     "output_type": "stream",
     "text": [
      "(8100,)\n"
     ]
    },
    {
     "data": {
      "image/png": "[encoded data removed]",
      "text/plain": [
       "<Figure size 432x288 with 1 Axes>"
      ]
     },
     "metadata": {
      "needs_background": "light"
     },
     "output_type": "display_data"
    }
   ],
   "source": [
    "img = cv2.imread('dataset/ck+/S029/001/S029_001_00000019.png')\n",
    "# img = cv2.imread('dataset/ck+/S028/001/S028_001_00000024.png')\n",
    "# img = cv2.imread('dataset/hijrah/002 P002/disgust/IMG_20190323_212727_2.jpg')\n",
    "img = cv2.cvtColor(img, cv2.COLOR_BGR2GRAY)\n",
    "clahe = cv2.createCLAHE(clipLimit=2.0, tileGridSize=(8,8))\n",
    "img = clahe.apply(img)\n",
    "faces = helper.face_detection(img)\n",
    "x1, x2, y1, y2, w, h, wide = faces[0]\n",
    "img = img[y1:y2,x1:x2]\n",
    "s = 128\n",
    "img = helper.crop_square(img, side=0, size=(s,s))\n",
    "img = img.astype(np.uint8)\n",
    "plt.imshow(img, cmap='gray')\n",
    "# cv2.imwrite('dataset/gray.png', img)\n",
    "img.shape\n",
    "print(hog(img, orientations=9, pixels_per_cell=(8, 8), cells_per_block=(2, 2)).shape)\n",
    "# print(helper.hog_feature(img, cell_size=(8, 8), block_size=(2, 2), n_bins=9).flatten().shape)"
   ]
  },
  {
   "cell_type": "code",
   "execution_count": 12,
   "metadata": {},
   "outputs": [
    {
     "data": {
      "text/plain": [
       "(6400,)"
      ]
     },
     "execution_count": 12,
     "metadata": {},
     "output_type": "execute_result"
    },
    {
     "data": {
      "image/png": "[encoded data removed]",
      "text/plain": [
       "<Figure size 432x288 with 1 Axes>"
      ]
     },
     "metadata": {
      "needs_background": "light"
     },
     "output_type": "display_data"
    }
   ],
   "source": [
    "img = local_binary_pattern(img, 8, 1)\n",
    "plt.imshow(img, cmap='gray')\n",
    "helper.lbph(img, size=(26, 26), normed=True).shape"
   ]
  }
 ],
 "metadata": {
  "kernelspec": {
   "display_name": "Python 3",
   "language": "python",
   "name": "python3"
  },
  "language_info": {
   "codemirror_mode": {
    "name": "ipython",
    "version": 3
   },
   "file_extension": ".py",
   "mimetype": "text/x-python",
   "name": "python",
   "nbconvert_exporter": "python",
   "pygments_lexer": "ipython3",
   "version": "3.6.6"
  }
 },
 "nbformat": 4,
 "nbformat_minor": 2
}
