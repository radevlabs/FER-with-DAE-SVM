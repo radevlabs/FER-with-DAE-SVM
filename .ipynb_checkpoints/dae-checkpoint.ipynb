{
 "cells": [
  {
   "cell_type": "code",
   "execution_count": 1,
   "metadata": {},
   "outputs": [
    {
     "name": "stderr",
     "output_type": "stream",
     "text": [
      "Using TensorFlow backend.\n"
     ]
    }
   ],
   "source": [
    "from joblib import dump, load\n",
    "from help import helper\n",
    "from help.utils import DatasetSequence, Timer\n",
    "from keras.models import load_model\n",
    "from help import helper\n",
    "from keras import backend as K\n",
    "import matplotlib.pyplot as plt\n",
    "import numpy as np\n",
    "import winsound\n",
    "import os\n",
    "import warnings\n",
    "warnings.filterwarnings('ignore')"
   ]
  },
  {
   "cell_type": "markdown",
   "metadata": {},
   "source": [
    "### Train"
   ]
  },
  {
   "cell_type": "code",
   "execution_count": 2,
   "metadata": {},
   "outputs": [
    {
     "name": "stdout",
     "output_type": "stream",
     "text": [
      "(11685, 14500)\n",
      "using gpu with no generator\n",
      "450 model is already learned\n",
      "440 model is already learned\n",
      "430 model is already learned\n",
      "420 model is already learned\n",
      "410 model is already learned\n",
      "400 model is already learned\n",
      "390 model is already learned\n",
      "380 model is already learned\n",
      "370 model is already learned\n",
      "360 model is already learned\n",
      "350 model is already learned\n"
     ]
    }
   ],
   "source": [
    "use_gpu = True\n",
    "use_image_generator = False\n",
    "\n",
    "if not use_gpu:\n",
    "    import os\n",
    "    os.environ['CUDA_VISIBLE_DEVICES'] = '-1'\n",
    "\n",
    "if use_image_generator:\n",
    "    dpaths = os.listdir('dataset/dump')\n",
    "    helper.remove(dpaths, 'desktop.ini')\n",
    "    path = []\n",
    "    for dpath in dpaths:\n",
    "        vectors = []\n",
    "        images = os.listdir(f'dataset/dump/{dpath}')\n",
    "        helper.remove(images, 'desktop.ini')\n",
    "        for image in images:\n",
    "            success = True if image.split('.')[1] == 't' else False\n",
    "            if success:\n",
    "                path.append(f'dataset/dump/{dpath}/{image}')\n",
    "    path = np.array(path)\n",
    "    print(path.shape)\n",
    "else:\n",
    "    x = load('dataset/vectors/ori/all.jlb')[:,:-1]\n",
    "    print(x.shape)\n",
    "\n",
    "hardware = 'gpu' if use_gpu else 'cpu'\n",
    "generator = 'generator' if use_image_generator else 'no generator'\n",
    "\n",
    "print(f'using {hardware} with {generator}')\n",
    "\n",
    "mdl_already = [path.split('.')[3] for path in os.listdir('model/dae')]\n",
    "helper.remove(mdl_already, 'desktop.ini')\n",
    "mdl_already = np.unique(mdl_already)\n",
    "aemdl = helper.aemodels()#.........................................................................percobaan pertama\n",
    "aemdl = aemdl[::-1]\n",
    "aemdl = helper.aemodels(cfrom=550, cto=450, cstep=10, n_layer=1)#..................................percobaan 'all'\n",
    "aemdl = helper.aemodels(hfrom=1000, hto=1000, hstep=1, cfrom=500, cto=400, cstep=10, n_layer=2)#...percobaan Asia Tenggara\n",
    "aemdl = helper.aemodels(cfrom=450, cto=350, cstep=10, n_layer=1)#..................................percobaan Asia Timur\n",
    "aemdl = helper.aemodels(hfrom=1000, hto=1000, hstep=1, cfrom=550, cto=450, cstep=10, n_layer=2)#...percobaan Eropa Utara\n",
    "aemdl = helper.aemodels(cfrom=450, cto=350, cstep=10, n_layer=1)#..................................percobaan Amerika Serikat\n",
    "for mdl in aemdl:\n",
    "    if mdl not in mdl_already:\n",
    "        autoencoder, encoder, model_str, _ = helper.buildDAE(mdl, x.shape[1], h_activation='sigmoid', o_activation='linear')\n",
    "        autoencoder.compile(optimizer='rmsprop', loss='mse')\n",
    "#         autoencoder.summary()\n",
    "        print(f'learning with {model_str} model ({autoencoder.count_params():,})...')\n",
    "        timer = Timer().start()\n",
    "        if use_image_generator:\n",
    "            history = autoencoder.fit_generator(generator=DatasetSequence(path, 32, True, 'threading'), epochs=400)\n",
    "        else:\n",
    "            history = autoencoder.fit(x=x, y=x, epochs=400, batch_size=256, verbose=0)\n",
    "        timer.end()\n",
    "\n",
    "        tstr = timer.summary(f=0)\n",
    "        encoder.save(f'model/dae/{hardware}.{generator}.encoder.{model_str}.{tstr}.h5')\n",
    "        autoencoder.save(f'model/dae/{hardware}.{generator}.autoencoder.{model_str}.{tstr}.h5')\n",
    "        dump(history, f'model/dae/{hardware}.{generator}.history.{model_str}.{tstr}.jlb')\n",
    "        K.clear_session()\n",
    "        print(f'{mdl} model was saved to disk ({timer.summary(f=0)})')\n",
    "    else:\n",
    "        print(f'{mdl} model is already learned')"
   ]
  },
  {
   "cell_type": "markdown",
   "metadata": {},
   "source": [
    "### Plot loss"
   ]
  },
  {
   "cell_type": "code",
   "execution_count": 6,
   "metadata": {},
   "outputs": [
    {
     "name": "stdout",
     "output_type": "stream",
     "text": [
      "0 model/dae/gpu.no generator.history.100.18 menit 56 detik.jlb\n",
      "1 model/dae/gpu.no generator.history.1000-100.27 menit 50 detik.jlb\n",
      "2 model/dae/gpu.no generator.history.1000-150.28 menit 24 detik.jlb\n",
      "3 model/dae/gpu.no generator.history.1000-200.28 menit.jlb\n",
      "4 model/dae/gpu.no generator.history.1000-250.28 menit 51 detik.jlb\n",
      "5 model/dae/gpu.no generator.history.1000-300.28 menit 56 detik.jlb\n",
      "6 model/dae/gpu.no generator.history.1000-350.28 menit 20 detik.jlb\n",
      "7 model/dae/gpu.no generator.history.1000-400.28 menit 11 detik.jlb\n",
      "8 model/dae/gpu.no generator.history.1000-410.28 menit 28 detik.jlb\n",
      "9 model/dae/gpu.no generator.history.1000-420.29 menit 50 detik.jlb\n",
      "10 model/dae/gpu.no generator.history.1000-430.29 menit 8 detik.jlb\n",
      "11 model/dae/gpu.no generator.history.1000-440.28 menit 14 detik.jlb\n",
      "12 model/dae/gpu.no generator.history.1000-450.28 menit 8 detik.jlb\n",
      "13 model/dae/gpu.no generator.history.1000-460.31 menit 32 detik.jlb\n",
      "14 model/dae/gpu.no generator.history.1000-470.31 menit 29 detik.jlb\n",
      "15 model/dae/gpu.no generator.history.1000-480.30 menit 7 detik.jlb\n",
      "16 model/dae/gpu.no generator.history.1000-490.30 menit 12 detik.jlb\n",
      "17 model/dae/gpu.no generator.history.1000-50.28 menit 3 detik.jlb\n",
      "18 model/dae/gpu.no generator.history.1000-500.28 menit 14 detik.jlb\n",
      "19 model/dae/gpu.no generator.history.1000-510.28 menit 34 detik.jlb\n",
      "20 model/dae/gpu.no generator.history.1000-520.28 menit 33 detik.jlb\n",
      "21 model/dae/gpu.no generator.history.1000-530.30 menit 47 detik.jlb\n",
      "22 model/dae/gpu.no generator.history.1000-540.29 menit 7 detik.jlb\n",
      "23 model/dae/gpu.no generator.history.1000-550.29 menit 32 detik.jlb\n",
      "24 model/dae/gpu.no generator.history.1000-900-100.28 menit 33 detik.jlb\n",
      "25 model/dae/gpu.no generator.history.1000-900-150.28 menit 38 detik.jlb\n",
      "26 model/dae/gpu.no generator.history.1000-900-200.28 menit 40 detik.jlb\n",
      "27 model/dae/gpu.no generator.history.1000-900-250.28 menit 43 detik.jlb\n",
      "28 model/dae/gpu.no generator.history.1000-900-300.30 menit 23 detik.jlb\n",
      "29 model/dae/gpu.no generator.history.1000-900-350.32 menit 33 detik.jlb\n",
      "30 model/dae/gpu.no generator.history.1000-900-400.30 menit.jlb\n",
      "31 model/dae/gpu.no generator.history.1000-900-450.30 menit 3 detik.jlb\n",
      "32 model/dae/gpu.no generator.history.1000-900-50.28 menit 25 detik.jlb\n",
      "33 model/dae/gpu.no generator.history.1000-900-500.29 menit 29 detik.jlb\n",
      "34 model/dae/gpu.no generator.history.1000-900-800-100.29 menit 7 detik.jlb\n",
      "35 model/dae/gpu.no generator.history.1000-900-800-150.29 menit 5 detik.jlb\n",
      "36 model/dae/gpu.no generator.history.1000-900-800-200.29 menit 7 detik.jlb\n",
      "37 model/dae/gpu.no generator.history.1000-900-800-250.29 menit 9 detik.jlb\n",
      "38 model/dae/gpu.no generator.history.1000-900-800-300.29 menit 11 detik.jlb\n",
      "39 model/dae/gpu.no generator.history.1000-900-800-350.29 menit 13 detik.jlb\n",
      "40 model/dae/gpu.no generator.history.1000-900-800-400.29 menit 20 detik.jlb\n",
      "41 model/dae/gpu.no generator.history.1000-900-800-450.29 menit 20 detik.jlb\n",
      "42 model/dae/gpu.no generator.history.1000-900-800-50.28 menit 55 detik.jlb\n",
      "43 model/dae/gpu.no generator.history.1000-900-800-500.29 menit 30 detik.jlb\n",
      "44 model/dae/gpu.no generator.history.1000-900-800-700-100.29 menit 35 detik.jlb\n",
      "45 model/dae/gpu.no generator.history.1000-900-800-700-150.29 menit 37 detik.jlb\n",
      "46 model/dae/gpu.no generator.history.1000-900-800-700-200.29 menit 48 detik.jlb\n",
      "47 model/dae/gpu.no generator.history.1000-900-800-700-250.29 menit 35 detik.jlb\n",
      "48 model/dae/gpu.no generator.history.1000-900-800-700-300.29 menit 39 detik.jlb\n",
      "49 model/dae/gpu.no generator.history.1000-900-800-700-350.29 menit 49 detik.jlb\n",
      "50 model/dae/gpu.no generator.history.1000-900-800-700-400.29 menit 44 detik.jlb\n",
      "51 model/dae/gpu.no generator.history.1000-900-800-700-450.29 menit 59 detik.jlb\n",
      "52 model/dae/gpu.no generator.history.1000-900-800-700-50.29 menit 19 detik.jlb\n",
      "53 model/dae/gpu.no generator.history.1000-900-800-700-500.29 menit 49 detik.jlb\n",
      "54 model/dae/gpu.no generator.history.1000-900-800-700-600-100.32 menit 50 detik.jlb\n",
      "55 model/dae/gpu.no generator.history.1000-900-800-700-600-150.32 menit 32 detik.jlb\n",
      "56 model/dae/gpu.no generator.history.1000-900-800-700-600-200.1 jam 22 menit 34 detik.jlb\n",
      "57 model/dae/gpu.no generator.history.1000-900-800-700-600-250.31 menit 20 detik.jlb\n",
      "58 model/dae/gpu.no generator.history.1000-900-800-700-600-300.30 menit 15 detik.jlb\n",
      "59 model/dae/gpu.no generator.history.1000-900-800-700-600-350.30 menit 17 detik.jlb\n",
      "60 model/dae/gpu.no generator.history.1000-900-800-700-600-400.30 menit 7 detik.jlb\n",
      "61 model/dae/gpu.no generator.history.1000-900-800-700-600-450.30 menit 11 detik.jlb\n",
      "62 model/dae/gpu.no generator.history.1000-900-800-700-600-50.31 menit 38 detik.jlb\n",
      "63 model/dae/gpu.no generator.history.1000-900-800-700-600-500.30 menit 8 detik.jlb\n",
      "64 model/dae/gpu.no generator.history.150.19 menit 27 detik.jlb\n",
      "65 model/dae/gpu.no generator.history.200.19 menit 43 detik.jlb\n",
      "66 model/dae/gpu.no generator.history.250.20 menit 16 detik.jlb\n",
      "67 model/dae/gpu.no generator.history.300.20 menit 54 detik.jlb\n",
      "68 model/dae/gpu.no generator.history.350.21 menit 18 detik.jlb\n",
      "69 model/dae/gpu.no generator.history.360.21 menit 44 detik.jlb\n",
      "70 model/dae/gpu.no generator.history.370.22 menit.jlb\n",
      "71 model/dae/gpu.no generator.history.380.21 menit 57 detik.jlb\n",
      "72 model/dae/gpu.no generator.history.390.4 jam 1 menit 37 detik.jlb\n",
      "73 model/dae/gpu.no generator.history.400.22 menit.jlb\n",
      "74 model/dae/gpu.no generator.history.410.25 menit 39 detik.jlb\n",
      "75 model/dae/gpu.no generator.history.420.27 menit 32 detik.jlb\n",
      "76 model/dae/gpu.no generator.history.430.26 menit 57 detik.jlb\n",
      "77 model/dae/gpu.no generator.history.440.23 menit 34 detik.jlb\n",
      "78 model/dae/gpu.no generator.history.450.22 menit 23 detik.jlb\n",
      "79 model/dae/gpu.no generator.history.460.23 menit 12 detik.jlb\n",
      "80 model/dae/gpu.no generator.history.470.22 menit 10 detik.jlb\n",
      "81 model/dae/gpu.no generator.history.480.22 menit 7 detik.jlb\n",
      "82 model/dae/gpu.no generator.history.490.22 menit 11 detik.jlb\n",
      "83 model/dae/gpu.no generator.history.50.18 menit 26 detik.jlb\n",
      "84 model/dae/gpu.no generator.history.500.22 menit 47 detik.jlb\n",
      "85 model/dae/gpu.no generator.history.510.22 menit 12 detik.jlb\n",
      "86 model/dae/gpu.no generator.history.520.22 menit 26 detik.jlb\n",
      "87 model/dae/gpu.no generator.history.530.22 menit 31 detik.jlb\n",
      "88 model/dae/gpu.no generator.history.540.22 menit 41 detik.jlb\n",
      "89 model/dae/gpu.no generator.history.550.22 menit 55 detik.jlb\n"
     ]
    }
   ],
   "source": [
    "hpaths = helper.paths('model/dae/')\n",
    "hpaths = hpaths[helper.swhere('history', hpaths)]\n",
    "for idx, h in enumerate(hpaths):\n",
    "    print(f'{idx} {h}')"
   ]
  },
  {
   "cell_type": "code",
   "execution_count": 9,
   "metadata": {},
   "outputs": [
    {
     "name": "stdout",
     "output_type": "stream",
     "text": [
      "load model/dae/gpu.no generator.history.550.22 menit 55 detik.jlb\n",
      "loaded\n",
      "plot\n",
      "plotted\n"
     ]
    },
    {
     "data": {
      "image/png": "[encoded data removed]",
      "text/plain": [
       "<Figure size 1008x504 with 1 Axes>"
      ]
     },
     "metadata": {
      "needs_background": "light"
     },
     "output_type": "display_data"
    }
   ],
   "source": [
    "ke = -1\n",
    "print(f'load {hpaths[ke]}')\n",
    "history = load(hpaths[ke])\n",
    "# history\n",
    "print('loaded')\n",
    "# print(history.history.keys())\n",
    "print('plot')\n",
    "plt.figure(figsize=(14,7))\n",
    "plt.plot(history.history['loss'][:])\n",
    "plt.title('model loss')\n",
    "plt.ylabel('loss')\n",
    "plt.xlabel('epoch')\n",
    "print('plotted')\n",
    "# plt.legend(['train', 'test'], loc='upper right')\n",
    "plt.show()"
   ]
  },
  {
   "cell_type": "markdown",
   "metadata": {},
   "source": [
    "### Encode dataset"
   ]
  },
  {
   "cell_type": "code",
   "execution_count": null,
   "metadata": {},
   "outputs": [],
   "source": [
    "epaths = np.array(os.listdir('model/dae'))\n",
    "epaths = epaths[helper.swhere('.encoder', epaths)]\n",
    "dbpaths = np.array(os.listdir('dataset/vectors/ori'))\n",
    "daes = os.listdir('dataset/vectors/dae')\n",
    "for epath in epaths:\n",
    "    ename = epath.split('.')[3]\n",
    "    \n",
    "    # cek apakah perlu encoder atau tidak START\n",
    "    needencoder = False\n",
    "    for dbpath in dbpaths:\n",
    "        dbname = dbpath.split('.')[0]\n",
    "        if f'{dbname}.{ename}.jlb' not in daes:\n",
    "            needencoder = True\n",
    "            break\n",
    "            \n",
    "    if needencoder:\n",
    "        encoder = load_model(f'model/dae/{epath}')\n",
    "        for dbpath in dbpaths:\n",
    "            dbname = dbpath.split('.')[0]\n",
    "            if f'{dbname}.{ename}.jlb' not in daes:\n",
    "                x = load(f'dataset/vectors/ori/{dbpath}')\n",
    "                y = x[:,-1].reshape([x.shape[0], 1])\n",
    "                x = encoder.predict(x[:,:-1])\n",
    "                d = dump(np.hstack([x, y]), f'dataset/vectors/dae/{dbname}.{ename}.jlb')\n",
    "                print(f'saved to {d[0]}')\n",
    "        K.clear_session()"
   ]
  }
 ],
 "metadata": {
  "kernelspec": {
   "display_name": "Python 3",
   "language": "python",
   "name": "python3"
  },
  "language_info": {
   "codemirror_mode": {
    "name": "ipython",
    "version": 3
   },
   "file_extension": ".py",
   "mimetype": "text/x-python",
   "name": "python",
   "nbconvert_exporter": "python",
   "pygments_lexer": "ipython3",
   "version": "3.6.6"
  }
 },
 "nbformat": 4,
 "nbformat_minor": 2
}
