{
 "cells": [
  {
   "cell_type": "code",
   "execution_count": 1,
   "metadata": {},
   "outputs": [],
   "source": [
    "import os\n",
    "import numpy as np\n",
    "import pandas as pd"
   ]
  },
  {
   "cell_type": "markdown",
   "metadata": {},
   "source": [
    "### Baca path"
   ]
  },
  {
   "cell_type": "code",
   "execution_count": 2,
   "metadata": {},
   "outputs": [
    {
     "data": {
      "text/plain": [
       "array([['dataset/raw/jaffe/KA.AN1.39.tiff', 'angry'],\n",
       "       ['dataset/raw/jaffe/KA.AN2.40.tiff', 'angry'],\n",
       "       ['dataset/raw/jaffe/KA.AN3.41.tiff', 'angry'],\n",
       "       ['dataset/raw/jaffe/KA.DI1.42.tiff', 'disgust'],\n",
       "       ['dataset/raw/jaffe/KA.DI2.43.tiff', 'disgust'],\n",
       "       ['dataset/raw/jaffe/KA.DI3.44.tiff', 'disgust'],\n",
       "       ['dataset/raw/jaffe/KA.FE1.45.tiff', 'fear'],\n",
       "       ['dataset/raw/jaffe/KA.FE2.46.tiff', 'fear'],\n",
       "       ['dataset/raw/jaffe/KA.FE3.47.tiff', 'fear'],\n",
       "       ['dataset/raw/jaffe/KA.FE4.48.tiff', 'fear']], dtype='<U33')"
      ]
     },
     "execution_count": 2,
     "metadata": {},
     "output_type": "execute_result"
    }
   ],
   "source": [
    "eks = ['angry', 'disgust', 'fear', 'happy', 'sad', 'surprise', 'neutral']\n",
    "targets = {'AN': eks[0], 'DI': eks[1], 'FE': eks[2], 'HA': eks[3], 'NE': eks[6], 'SA': eks[4],'SU': eks[5]}\n",
    "path = 'dataset/raw/jaffe/'\n",
    "filenames = os.listdir(path)\n",
    "dataset = []\n",
    "for filename in filenames:\n",
    "    try:\n",
    "        dataset.append([path + filename, targets[filename[3:5]]])\n",
    "    except:\n",
    "        print(filename)\n",
    "dataset = np.array(dataset)\n",
    "dataset[:10]"
   ]
  },
  {
   "cell_type": "markdown",
   "metadata": {},
   "source": [
    "### Simpan csv"
   ]
  },
  {
   "cell_type": "code",
   "execution_count": 3,
   "metadata": {},
   "outputs": [
    {
     "data": {
      "text/plain": [
       "'List data tersimpan'"
      ]
     },
     "execution_count": 3,
     "metadata": {},
     "output_type": "execute_result"
    }
   ],
   "source": [
    "pd.DataFrame(dataset).to_csv('dataset/jaffe.csv', index=False, header=False, sep=';')\n",
    "'List data tersimpan'"
   ]
  },
  {
   "cell_type": "markdown",
   "metadata": {},
   "source": [
    "### Lihat data per ekspresi"
   ]
  },
  {
   "cell_type": "code",
   "execution_count": 4,
   "metadata": {},
   "outputs": [
    {
     "data": {
      "text/plain": [
       "(array(['angry', 'disgust', 'fear', 'happy', 'neutral', 'sad', 'surprise'],\n",
       "       dtype='<U33'), array([30, 29, 32, 31, 30, 31, 30], dtype=int64))"
      ]
     },
     "execution_count": 4,
     "metadata": {},
     "output_type": "execute_result"
    }
   ],
   "source": [
    "dataset = np.loadtxt('dataset/jaffe.csv', delimiter=';', dtype='<U')\n",
    "np.unique(dataset[:,1], return_counts=True)"
   ]
  }
 ],
 "metadata": {
  "kernelspec": {
   "display_name": "Python 3",
   "language": "python",
   "name": "python3"
  },
  "language_info": {
   "codemirror_mode": {
    "name": "ipython",
    "version": 3
   },
   "file_extension": ".py",
   "mimetype": "text/x-python",
   "name": "python",
   "nbconvert_exporter": "python",
   "pygments_lexer": "ipython3",
   "version": "3.6.6"
  }
 },
 "nbformat": 4,
 "nbformat_minor": 2
}
