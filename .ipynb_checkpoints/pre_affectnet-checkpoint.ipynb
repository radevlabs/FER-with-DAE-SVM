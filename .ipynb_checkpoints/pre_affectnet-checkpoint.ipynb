{
 "cells": [
  {
   "cell_type": "code",
   "execution_count": 1,
   "metadata": {},
   "outputs": [
    {
     "name": "stderr",
     "output_type": "stream",
     "text": [
      "Using TensorFlow backend.\n"
     ]
    }
   ],
   "source": [
    "from help import helper\n",
    "from joblib import load, dump\n",
    "\n",
    "import numpy as np\n",
    "import pandas as pd\n",
    "import progressbar\n",
    "import cv2\n",
    "import matplotlib.pyplot as plt"
   ]
  },
  {
   "cell_type": "markdown",
   "metadata": {},
   "source": [
    "### Filter Kategori"
   ]
  },
  {
   "cell_type": "code",
   "execution_count": 18,
   "metadata": {},
   "outputs": [
    {
     "name": "stderr",
     "output_type": "stream",
     "text": [
      "| |        #                                        | 414 Elapsed Time: 0:00:08\n"
     ]
    },
    {
     "name": "stdout",
     "output_type": "stream",
     "text": [
      "List data tersimpan (283902, 2)\n"
     ]
    }
   ],
   "source": [
    "targets = np.array(['neutral', 'happy', 'sad', 'surprise', 'fear', 'disgust', 'angry'])\n",
    "chunksize = 1000\n",
    "used_ex = np.arange(7)\n",
    "dataset = []\n",
    "for chunk in progressbar.progressbar(pd.read_csv('dataset/training.csv', chunksize=chunksize, usecols=['subDirectory_filePath', 'expression'])):\n",
    "    paths = chunk['subDirectory_filePath'].tolist()\n",
    "    ex = chunk['expression'].tolist()\n",
    "    data = np.array(list(zip(paths, ex)))\n",
    "    data = data[data[:,1].astype(np.int) < 7]\n",
    "    paths = data[:,0]\n",
    "    ex = targets[data[:,1].astype(np.int)]\n",
    "    data = np.array(list(zip(paths, ex)))\n",
    "    dataset.extend(data)\n",
    "dataset = np.array(dataset)\n",
    "pd.DataFrame(dataset).to_csv('dataset/affectnet_filter.csv', index=False, header=False, sep=';')\n",
    "print(f'List data tersimpan {dataset.shape}')"
   ]
  },
  {
   "cell_type": "code",
   "execution_count": 36,
   "metadata": {},
   "outputs": [
    {
     "data": {
      "text/plain": [
       "(array(['angry', 'disgust', 'fear', 'happy', 'neutral', 'sad', 'surprise'],\n",
       "       dtype='<U66'),\n",
       " array([ 24882,   3803,   6378, 134416,  74874,  25459,  14090],\n",
       "       dtype=int64))"
      ]
     },
     "execution_count": 36,
     "metadata": {},
     "output_type": "execute_result"
    }
   ],
   "source": [
    "dataset = np.loadtxt('dataset/affectnet_filter.csv', delimiter=';', dtype='<U')\n",
    "np.unique(dataset[:,1], return_counts=True)"
   ]
  },
  {
   "cell_type": "markdown",
   "metadata": {},
   "source": [
    "### Filter Detected Face"
   ]
  },
  {
   "cell_type": "code",
   "execution_count": null,
   "metadata": {},
   "outputs": [],
   "source": [
    "affect_df = []\n",
    "for path, exp in progressbar.progressbar(dataset):\n",
    "    path = '../../../../etc/Data set/Facial Expression/Affect Net/Manually_annotated_compressed/Manually_Annotated_Images/' + path\n",
    "    img = cv2.imread(path)\n",
    "    if img is not None:\n",
    "        faces = helper.face_detection(img)\n",
    "        if len(faces) > 0:\n",
    "            affect_df.append([path, exp])\n",
    "affect_df = np.array(affect_df)"
   ]
  },
  {
   "cell_type": "code",
   "execution_count": 6,
   "metadata": {},
   "outputs": [
    {
     "name": "stdout",
     "output_type": "stream",
     "text": [
      "List data tersimpan (276484, 2)\n"
     ]
    }
   ],
   "source": [
    "affect_df = np.array(affect_df)\n",
    "dump(affect_df, 'dataset/affectnet_df.jlb')\n",
    "pd.DataFrame(affect_df).to_csv('dataset/affectnet_df.csv', index=False, header=False, sep=';')\n",
    "print(f'List data tersimpan {affect_df.shape}')"
   ]
  },
  {
   "cell_type": "code",
   "execution_count": 10,
   "metadata": {},
   "outputs": [
    {
     "data": {
      "text/plain": [
       "(array(['angry', 'disgust', 'fear', 'happy', 'neutral', 'sad', 'surprise'],\n",
       "       dtype='<U176'),\n",
       " array([ 24139,   3696,   6157, 131711,  72738,  24435,  13608],\n",
       "       dtype=int64))"
      ]
     },
     "execution_count": 10,
     "metadata": {},
     "output_type": "execute_result"
    }
   ],
   "source": [
    "dataset = np.loadtxt('dataset/affectnet_df.csv', delimiter=';', dtype='<U')\n",
    "np.unique(dataset[:,1], return_counts=True)"
   ]
  },
  {
   "cell_type": "markdown",
   "metadata": {},
   "source": [
    "### Undersampling"
   ]
  },
  {
   "cell_type": "code",
   "execution_count": 34,
   "metadata": {},
   "outputs": [
    {
     "name": "stdout",
     "output_type": "stream",
     "text": [
      "List data tersimpan (25872, 2)\n"
     ]
    }
   ],
   "source": [
    "def undersampling(dataset, cols_target=-1, random_data=False):\n",
    "    unique = np.unique(dataset[:,cols_target], return_counts=True)\n",
    "    targets = unique[0]\n",
    "    total = unique[1]\n",
    "    targets = targets[total.argsort()]\n",
    "    total.sort()\n",
    "    n_min = total[0]\n",
    "    \n",
    "    udataset = []\n",
    "    for target in targets:\n",
    "        data = dataset[dataset[:,cols_target] == target]\n",
    "        if not random_data:\n",
    "            udataset.extend(data[:n_min])\n",
    "        else:\n",
    "            idx = np.random.choice(np.arange(data.shape[0]), n_min, replace=False)\n",
    "            udataset.extend(data[idx])\n",
    "    \n",
    "    return np.array(udataset)\n",
    "\n",
    "dataset = np.loadtxt('dataset/affectnet_df.csv', delimiter=';', dtype='<U')\n",
    "udataset = undersampling(dataset, random_data=False)\n",
    "pd.DataFrame(udataset).to_csv('dataset/affectnet_undersampling.csv', index=False, header=False, sep=';')\n",
    "print(f'List data tersimpan {udataset.shape}')"
   ]
  }
 ],
 "metadata": {
  "kernelspec": {
   "display_name": "Python 3",
   "language": "python",
   "name": "python3"
  },
  "language_info": {
   "codemirror_mode": {
    "name": "ipython",
    "version": 3
   },
   "file_extension": ".py",
   "mimetype": "text/x-python",
   "name": "python",
   "nbconvert_exporter": "python",
   "pygments_lexer": "ipython3",
   "version": "3.6.7rc2"
  }
 },
 "nbformat": 4,
 "nbformat_minor": 2
}
