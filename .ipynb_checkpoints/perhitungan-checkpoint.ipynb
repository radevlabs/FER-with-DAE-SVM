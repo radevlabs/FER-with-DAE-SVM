{
 "cells": [
  {
   "cell_type": "code",
   "execution_count": 2,
   "metadata": {},
   "outputs": [],
   "source": [
    "from help import helper\n",
    "from skimage.feature import hog\n",
    "from skimage.util.shape import view_as_blocks, view_as_windows\n",
    "\n",
    "import cv2\n",
    "import numpy as np"
   ]
  },
  {
   "cell_type": "code",
   "execution_count": 3,
   "metadata": {},
   "outputs": [
    {
     "name": "stdout",
     "output_type": "stream",
     "text": [
      "(6, 6)\n",
      "[[ 95 106 147 165 121  62]\n",
      " [139 149 167 174 137  80]\n",
      " [152 161 173 172 130  99]\n",
      " [157 165 174 168 110 105]\n",
      " [175 178 175 160 131  96]\n",
      " [172 173 172 144 128 126]]\n"
     ]
    }
   ],
   "source": [
    "img = cv2.imread('dataset/tes.png')\n",
    "img = cv2.cvtColor(img, cv2.COLOR_BGR2GRAY)\n",
    "faces = helper.face_detection(img)\n",
    "x1, x2, y1, y2, w, h, wide = faces[0]\n",
    "img = img[y1:y2,x1:x2]\n",
    "img = helper.crop_square(img, size=(6, 6))\n",
    "print(img.shape)\n",
    "print(img)"
   ]
  },
  {
   "cell_type": "code",
   "execution_count": 4,
   "metadata": {},
   "outputs": [
    {
     "name": "stdout",
     "output_type": "stream",
     "text": [
      "[[   0.   52.   59.  -26. -103.    0.]\n",
      " [   0.   28.   25.  -30.  -94.    0.]\n",
      " [   0.   21.   11.  -43.  -73.    0.]\n",
      " [   0.   17.    3.  -64.  -63.    0.]\n",
      " [   0.    0.  -18.  -44.  -64.    0.]\n",
      " [   0.    0.  -29.  -44.  -18.    0.]]\n",
      "[[  0.   0.   0.   0.   0.   0.]\n",
      " [ 57.  55.  26.   7.   9.  37.]\n",
      " [ 18.  16.   7.  -6. -27.  25.]\n",
      " [ 23.  17.   2. -12.   1.  -3.]\n",
      " [ 15.   8.  -2. -24.  18.  21.]\n",
      " [  0.   0.   0.   0.   0.   0.]]\n"
     ]
    }
   ],
   "source": [
    "gx = cv2.Sobel(img, cv2.CV_32F, 1, 0, ksize=1)\n",
    "gy = cv2.Sobel(img, cv2.CV_32F, 0, 1, ksize=1)\n",
    "print(gx)\n",
    "print(gy)"
   ]
  },
  {
   "cell_type": "code",
   "execution_count": 5,
   "metadata": {},
   "outputs": [
    {
     "name": "stdout",
     "output_type": "stream",
     "text": [
      "[[  0.         52.         59.         26.        103.          0.       ]\n",
      " [ 57.         61.7171     36.069378   30.805845   94.42987    37.       ]\n",
      " [ 18.         26.400757   13.038405   43.416588   77.83315    25.       ]\n",
      " [ 23.         24.04163     3.6055512  65.11528    63.007935    3.       ]\n",
      " [ 15.          8.         18.110771   50.119858   66.48308    21.       ]\n",
      " [  0.          0.         29.         44.         18.          0.       ]]\n",
      "[[  0.         0.         0.       180.       180.         0.      ]\n",
      " [ 90.        63.01815   46.118206 166.8649   174.53171   90.      ]\n",
      " [ 90.        37.29845   32.46552  187.94283  200.30188   90.      ]\n",
      " [ 90.        44.990456  33.683205 190.61967  179.0908   270.      ]\n",
      " [ 90.        90.       186.33939  208.61009  164.28894   90.      ]\n",
      " [  0.         0.       180.       180.       180.         0.      ]]\n"
     ]
    }
   ],
   "source": [
    "mags, angles = cv2.cartToPolar(gx, gy, angleInDegrees=True)\n",
    "print(mags)\n",
    "print(angles)"
   ]
  },
  {
   "cell_type": "code",
   "execution_count": 13,
   "metadata": {},
   "outputs": [
    {
     "name": "stdout",
     "output_type": "stream",
     "text": [
      "\n"
     ]
    },
    {
     "data": {
      "text/plain": [
       "array([0.12691295, 0.        , 0.03505559, 0.        , 0.09274408,\n",
       "       0.        , 0.        , 0.        , 0.        , 0.32379072,\n",
       "       0.01139075, 0.        , 0.        , 0.        , 0.        ,\n",
       "       0.        , 0.00785717, 0.01057608, 0.        , 0.03707877,\n",
       "       0.        , 0.        , 0.06671065, 0.        , 0.        ,\n",
       "       0.        , 0.        , 0.31425884, 0.87425512, 0.        ,\n",
       "       0.        , 0.        , 0.        , 0.        , 0.        ,\n",
       "       0.00363311, 0.15906192, 0.0055957 , 0.        , 0.        ,\n",
       "       0.        , 0.        , 0.        , 0.00385983, 0.00519549,\n",
       "       0.66036092, 0.        , 0.        , 0.        , 0.02957433,\n",
       "       0.        , 0.        , 0.        , 0.04977017, 0.15437939,\n",
       "       0.4294771 , 0.        , 0.        , 0.        , 0.        ,\n",
       "       0.        , 0.        , 0.00178476, 0.21289644, 0.52974543,\n",
       "       0.        , 0.        , 0.01998265, 0.01918335, 0.        ,\n",
       "       0.        , 0.01373539, 0.        , 0.0276015 , 0.        ,\n",
       "       0.        , 0.04965952, 0.        , 0.        , 0.        ,\n",
       "       0.        , 0.23393483, 0.65079702, 0.        , 0.        ,\n",
       "       0.        , 0.        , 0.        , 0.        , 0.00270449,\n",
       "       0.        , 0.        , 0.        , 0.        , 0.02785778,\n",
       "       0.        , 0.        , 0.        , 0.        , 0.47248138,\n",
       "       0.54213136, 0.        , 0.        , 0.        , 0.        ,\n",
       "       0.        , 0.        , 0.02411202, 0.1765135 , 0.49105326,\n",
       "       0.        , 0.        , 0.        , 0.        , 0.        ,\n",
       "       0.        , 0.00204065, 0.24342041, 0.60569754, 0.        ,\n",
       "       0.        , 0.02284766, 0.02193375, 0.        , 0.        ,\n",
       "       0.0157047 , 0.35650673, 0.40906052, 0.        , 0.        ,\n",
       "       0.        , 0.        , 0.        , 0.        , 0.01819351,\n",
       "       0.06991384, 0.        , 0.        , 0.        , 0.01919204,\n",
       "       0.        , 0.        , 0.01735   , 0.00411258])"
      ]
     },
     "execution_count": 13,
     "metadata": {},
     "output_type": "execute_result"
    }
   ],
   "source": [
    "bin = 9\n",
    "width = 180 / bin\n",
    "\n",
    "def center(bin_num):\n",
    "    return width * (bin_num + 0.5)\n",
    "\n",
    "def bin_number(angle):\n",
    "    ang_per_w = angle / width\n",
    "    bin_num = np.absolute(ang_per_w - 0.5) % bin\n",
    "    return int(bin_num)\n",
    "\n",
    "def vote(mag, angle):\n",
    "    bin_num = bin_number(angle) + 1\n",
    "    return mag * ((center(bin_num) - angle) / width)\n",
    "\n",
    "def vote_plus(mag, angle):\n",
    "    bin_num = int((bin_number(angle) + 1) % bin)\n",
    "    return mag * ((angle - center(bin_num)) / width)\n",
    "\n",
    "def cell_orientation(mags, angles):\n",
    "    mags = view_as_blocks(mags, block_shape=(2,2))\n",
    "    angles = view_as_blocks(angles, block_shape=(2,2))\n",
    "    histograms = np.array([[np.zeros(bin) for b in range(angles.shape[1])] for a in range(angles.shape[0])])\n",
    "    for a in range(angles.shape[0]):\n",
    "        for b in range(angles.shape[1]):\n",
    "            mg = mags[a,b].flatten()\n",
    "            ag = angles[a,b].flatten()\n",
    "            for c in range(mg.shape[0]):\n",
    "                bin_num = bin_number(ag[c])\n",
    "                bin_num_plus = int((bin_num + 1) % bin)\n",
    "                Va = vote(mag=mg[c], angle=ag[c])\n",
    "                Vb = vote_plus(mag=mg[c], angle=ag[c])\n",
    "                if Va < 0.:\n",
    "                    Vb -= Va\n",
    "                    Va = 0.\n",
    "                elif Vb < 0:\n",
    "                    Va -= Vb\n",
    "                    Vb = 0\n",
    "                histograms[a,b,bin_num] += Va\n",
    "                histograms[a,b,bin_num_plus] += Vb\n",
    "    return histograms\n",
    "    \n",
    "cells = cell_orientation(mags, angles)\n",
    "\n",
    "idx = np.unravel_index(np.arange(9), (3,3))\n",
    "windows = view_as_windows(np.arange(9).reshape(3,3), (2,2))\n",
    "blocks = []\n",
    "for c in range(windows.shape[0]):\n",
    "    for i in range(windows.shape[1]):\n",
    "        window = windows[c,i].flatten()\n",
    "        block_feature = []\n",
    "        for ravel in window:\n",
    "            y = idx[0][ravel]\n",
    "            x = idx[1][ravel]\n",
    "            block_feature.extend(cells[y,x])\n",
    "        blocks.append(block_feature)\n",
    "blocks = np.array(blocks)\n",
    "# print(blocks)\n",
    "for block in blocks:\n",
    "    per = (np.dot(block, block) ** 0.5)\n",
    "    block /= per\n",
    "print('')\n",
    "blocks = blocks.flatten()\n",
    "\n",
    "# per = (np.dot(blocks, blocks) ** 0.5 + 0.1) ** 0.5\n",
    "# blocks /= per\n",
    "\n",
    "# per = (np.dot(blocks, blocks) ** 0.5 + 0.2) ** 0.5\n",
    "# blocks /= per\n",
    "\n",
    "blocks"
   ]
  }
 ],
 "metadata": {
  "kernelspec": {
   "display_name": "Python 3",
   "language": "python",
   "name": "python3"
  },
  "language_info": {
   "codemirror_mode": {
    "name": "ipython",
    "version": 3
   },
   "file_extension": ".py",
   "mimetype": "text/x-python",
   "name": "python",
   "nbconvert_exporter": "python",
   "pygments_lexer": "ipython3",
   "version": "3.6.7rc2"
  }
 },
 "nbformat": 4,
 "nbformat_minor": 2
}
