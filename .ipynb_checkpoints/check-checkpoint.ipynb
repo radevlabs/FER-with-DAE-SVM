{
 "cells": [
  {
   "cell_type": "code",
   "execution_count": 1,
   "metadata": {},
   "outputs": [
    {
     "data": {
      "text/plain": [
       "array(['500', '450', '400', '350', '300', '250', '200', '150', '100',\n",
       "       '50', '1000-500', '1000-450', '1000-400', '1000-350', '1000-300',\n",
       "       '1000-250', '1000-200', '1000-150', '1000-100', '1000-50',\n",
       "       '1000-900-500', '1000-900-450', '1000-900-400', '1000-900-350',\n",
       "       '1000-900-300', '1000-900-250', '1000-900-200', '1000-900-150',\n",
       "       '1000-900-100', '1000-900-50', '1000-900-800-500',\n",
       "       '1000-900-800-450', '1000-900-800-400', '1000-900-800-350',\n",
       "       '1000-900-800-300', '1000-900-800-250', '1000-900-800-200',\n",
       "       '1000-900-800-150', '1000-900-800-100', '1000-900-800-50',\n",
       "       '1000-900-800-700-500', '1000-900-800-700-450',\n",
       "       '1000-900-800-700-400', '1000-900-800-700-350',\n",
       "       '1000-900-800-700-300', '1000-900-800-700-250',\n",
       "       '1000-900-800-700-200', '1000-900-800-700-150',\n",
       "       '1000-900-800-700-100', '1000-900-800-700-50',\n",
       "       '1000-900-800-700-600-500', '1000-900-800-700-600-450',\n",
       "       '1000-900-800-700-600-400', '1000-900-800-700-600-350',\n",
       "       '1000-900-800-700-600-300', '1000-900-800-700-600-250',\n",
       "       '1000-900-800-700-600-200', '1000-900-800-700-600-150',\n",
       "       '1000-900-800-700-600-100', '1000-900-800-700-600-50'],\n",
       "      dtype='<U24')"
      ]
     },
     "execution_count": 1,
     "metadata": {},
     "output_type": "execute_result"
    }
   ],
   "source": [
    "import numpy as np\n",
    "def aemodels(hfrom=1000, hto=600, hstep=100, cfrom=500, cto=50, cstep=50):\n",
    "    layers = np.arange(hto, hfrom + 1, hstep)[::-1]\n",
    "    clayers = np.arange(cto, cfrom + 1, cstep)[::-1]\n",
    "    models = []\n",
    "    for c in range(layers.shape[0] + 1):\n",
    "        for clayer in clayers:\n",
    "            model = []\n",
    "            model.extend(layers[0:c])\n",
    "            model.append(clayer)\n",
    "            models.append(str(model).replace('[', '').replace(']', '').replace(', ', '-'))\n",
    "    return np.array(models)\n",
    "\n",
    "aemodels()"
   ]
  },
  {
   "cell_type": "code",
   "execution_count": 9,
   "metadata": {},
   "outputs": [
    {
     "name": "stdout",
     "output_type": "stream",
     "text": [
      "9tes"
     ]
    }
   ],
   "source": [
    "import time\n",
    "import sys\n",
    "for c in range(10):\n",
    "    sys.stdout.write(f'{c}')\n",
    "    time.sleep(0.1)\n",
    "    sys.stdout.write(f'\\r{c}tes')"
   ]
  },
  {
   "cell_type": "code",
   "execution_count": 44,
   "metadata": {},
   "outputs": [
    {
     "data": {
      "text/plain": [
       "(2, 2)"
      ]
     },
     "execution_count": 44,
     "metadata": {},
     "output_type": "execute_result"
    }
   ],
   "source": [
    "import numpy as np\n",
    "from skimage.util.shape import view_as_blocks\n",
    "def blocks(arr, size):\n",
    "    arr = np.array(arr)\n",
    "    y = np.ceil(arr.shape[0] / size[0]).astype(np.int)\n",
    "    x = np.ceil(arr.shape[1] / size[1]).astype(np.int)\n",
    "    views = []\n",
    "    for i in range(y):\n",
    "        view = []\n",
    "        for j in range(x):\n",
    "            view.append(arr[i * size[0]:(i + 1) * size[0], j * size[1]:(j + 1) * size[1]])\n",
    "        views.append(view)\n",
    "    return np.array(views)\n",
    "\n",
    "arr = np.arange(16).reshape([4,4])\n",
    "blocks(arr, size=(3,3)).shape"
   ]
  },
  {
   "cell_type": "code",
   "execution_count": 2,
   "metadata": {},
   "outputs": [
    {
     "name": "stdout",
     "output_type": "stream",
     "text": [
      "5,0038 detik\n"
     ]
    }
   ],
   "source": [
    "from joblib import Parallel, delayed\n",
    "from help.utils import Timer\n",
    "import numpy as np\n",
    "import time\n",
    "\n",
    "def square_int(i):\n",
    "    time.sleep(0.5)\n",
    "    return i * i\n",
    "\n",
    "results = []\n",
    "var = np.arange(10)\n",
    "\n",
    "parallel = False\n",
    "\n",
    "timer = Timer().start()\n",
    "if parallel:\n",
    "    results = Parallel(n_jobs=-1, backend='threading')(delayed(square_int)(i) for i in var)\n",
    "else:\n",
    "    for i in var:\n",
    "        results.append(square_int(i))\n",
    "result = np.array(results)\n",
    "\n",
    "print(timer.end().summary(f=5,comma=','))"
   ]
  },
  {
   "cell_type": "code",
   "execution_count": 2,
   "metadata": {},
   "outputs": [
    {
     "data": {
      "text/plain": [
       "[name: \"/device:CPU:0\"\n",
       " device_type: \"CPU\"\n",
       " memory_limit: 268435456\n",
       " locality {\n",
       " }\n",
       " incarnation: 4455389041106034753, name: \"/device:GPU:0\"\n",
       " device_type: \"GPU\"\n",
       " memory_limit: 78590771\n",
       " locality {\n",
       "   bus_id: 1\n",
       " }\n",
       " incarnation: 13081906192276611156\n",
       " physical_device_desc: \"device: 0, name: GeForce GTX 1060, pci bus id: 0000:01:00.0, compute capability: 6.1\"]"
      ]
     },
     "execution_count": 2,
     "metadata": {},
     "output_type": "execute_result"
    }
   ],
   "source": [
    "from tensorflow.python.client import device_lib\n",
    "device_lib.list_local_devices()"
   ]
  },
  {
   "cell_type": "code",
   "execution_count": 3,
   "metadata": {},
   "outputs": [
    {
     "name": "stdout",
     "output_type": "stream",
     "text": [
      "[[22. 28.]\n",
      " [49. 64.]]\n"
     ]
    }
   ],
   "source": [
    "import tensorflow as tf\n",
    "# Creates a graph.\n",
    "a = tf.constant([1.0, 2.0, 3.0, 4.0, 5.0, 6.0], shape=[2, 3], name='a')\n",
    "b = tf.constant([1.0, 2.0, 3.0, 4.0, 5.0, 6.0], shape=[3, 2], name='b')\n",
    "c = tf.matmul(a, b)\n",
    "# Creates a session with log_device_placement set to True.\n",
    "sess = tf.Session(config=tf.ConfigProto(log_device_placement=True))\n",
    "# Runs the op.\n",
    "print(sess.run(c))"
   ]
  },
  {
   "cell_type": "code",
   "execution_count": 1,
   "metadata": {},
   "outputs": [
    {
     "name": "stdout",
     "output_type": "stream",
     "text": [
      "GPU found\n"
     ]
    }
   ],
   "source": [
    "import os\n",
    "import tensorflow as tf\n",
    "\n",
    "# os.environ['CUDA_VISIBLE_DEVICES'] = '-1'\n",
    "\n",
    "if tf.test.gpu_device_name():\n",
    "    print('GPU found')\n",
    "else:\n",
    "    print(\"No GPU found\")"
   ]
  }
 ],
 "metadata": {
  "kernelspec": {
   "display_name": "Python 3",
   "language": "python",
   "name": "python3"
  },
  "language_info": {
   "codemirror_mode": {
    "name": "ipython",
    "version": 3
   },
   "file_extension": ".py",
   "mimetype": "text/x-python",
   "name": "python",
   "nbconvert_exporter": "python",
   "pygments_lexer": "ipython3",
   "version": "3.6.6"
  }
 },
 "nbformat": 4,
 "nbformat_minor": 2
}
