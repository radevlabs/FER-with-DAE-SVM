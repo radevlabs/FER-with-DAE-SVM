{
 "cells": [
  {
   "cell_type": "code",
   "execution_count": 4,
   "metadata": {},
   "outputs": [],
   "source": [
    "from help import helper as hp\n",
    "import glob\n",
    "import pandas as pd\n",
    "import numpy as np"
   ]
  },
  {
   "cell_type": "markdown",
   "metadata": {},
   "source": [
    "### Baca path"
   ]
  },
  {
   "cell_type": "code",
   "execution_count": 28,
   "metadata": {},
   "outputs": [
    {
     "data": {
      "text/plain": [
       "array([['dataset/raw/nvie/003/visible/anger/front/without_glasses/003_00_v_r[001438)16-33-55].BMP',\n",
       "        'angry'],\n",
       "       ['dataset/raw/nvie/003/visible/anger/front/with_glasses/003_00_v_r[005311)16-42-45].BMP',\n",
       "        'angry'],\n",
       "       ['dataset/raw/nvie/003/visible/anger/left/without_glasses/003_00_v_r[001491)16-34-08].BMP',\n",
       "        'angry'],\n",
       "       ...,\n",
       "       ['dataset/raw/nvie/210/visible/surprise/left/with_glasses/VR_MOVIE[036985)10-14-27].BMP',\n",
       "        'surprise'],\n",
       "       ['dataset/raw/nvie/210/visible/surprise/right/without_glasses/VR_MOVIE[034579)10-12-27].BMP',\n",
       "        'surprise'],\n",
       "       ['dataset/raw/nvie/210/visible/surprise/right/with_glasses/VR_MOVIE[037005)10-14-29].BMP',\n",
       "        'surprise']], dtype='<U92')"
      ]
     },
     "execution_count": 28,
     "metadata": {},
     "output_type": "execute_result"
    }
   ],
   "source": [
    "target = {'anger':'angry', 'disgust':'disgust', 'fear':'fear', 'happiness':'happy', 'neutral':'neutral', 'sadness':'sad', 'surprise':'surprise',\n",
    "         'grief':'sad'}\n",
    "paths = list(glob.glob('dataset/raw/nvie/**/*.BMP', recursive=True))\n",
    "paths = [path.replace('\\\\', '/') for path in paths]\n",
    "dataset = []\n",
    "for path in paths:\n",
    "    try:\n",
    "        dataset.append([path, target[path.split('/')[5]]])\n",
    "    except:\n",
    "        print(path)\n",
    "        break\n",
    "dataset = np.array(dataset)\n",
    "dataset"
   ]
  },
  {
   "cell_type": "markdown",
   "metadata": {},
   "source": [
    "### Simpan Csv"
   ]
  },
  {
   "cell_type": "code",
   "execution_count": 29,
   "metadata": {},
   "outputs": [
    {
     "data": {
      "text/plain": [
       "'List data tersimpan'"
      ]
     },
     "execution_count": 29,
     "metadata": {},
     "output_type": "execute_result"
    }
   ],
   "source": [
    "pd.DataFrame(dataset).to_csv('dataset/nvie.csv', index=False, header=False, sep=';')\n",
    "'List data tersimpan'"
   ]
  },
  {
   "cell_type": "markdown",
   "metadata": {},
   "source": [
    "### Lihat data per ekspresi"
   ]
  },
  {
   "cell_type": "code",
   "execution_count": 30,
   "metadata": {},
   "outputs": [
    {
     "data": {
      "text/plain": [
       "((array(['angry', 'disgust', 'fear', 'happy', 'neutral', 'sad', 'surprise'],\n",
       "        dtype='<U92'),\n",
       "  array([630, 619, 630, 635, 208, 630, 625], dtype=int64)),\n",
       " (3977, 2))"
      ]
     },
     "execution_count": 30,
     "metadata": {},
     "output_type": "execute_result"
    }
   ],
   "source": [
    "dataset = np.loadtxt('dataset/nvie.csv', delimiter=';', dtype='<U')\n",
    "np.unique(dataset[:,1], return_counts=True), dataset.shape"
   ]
  }
 ],
 "metadata": {
  "kernelspec": {
   "display_name": "Python 3",
   "language": "python",
   "name": "python3"
  },
  "language_info": {
   "codemirror_mode": {
    "name": "ipython",
    "version": 3
   },
   "file_extension": ".py",
   "mimetype": "text/x-python",
   "name": "python",
   "nbconvert_exporter": "python",
   "pygments_lexer": "ipython3",
   "version": "3.6.6"
  }
 },
 "nbformat": 4,
 "nbformat_minor": 2
}
