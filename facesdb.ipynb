{
 "cells": [
  {
   "cell_type": "code",
   "execution_count": 2,
   "metadata": {},
   "outputs": [],
   "source": [
    "from help import helper\n",
    "import os\n",
    "import pandas as pd\n",
    "import numpy as np"
   ]
  },
  {
   "cell_type": "markdown",
   "metadata": {},
   "source": [
    "### Baca path"
   ]
  },
  {
   "cell_type": "code",
   "execution_count": 3,
   "metadata": {},
   "outputs": [
    {
     "data": {
      "text/plain": [
       "array([['dataset/raw/facesdb/s001/tif/s001-00_img.tif', 'neutral'],\n",
       "       ['dataset/raw/facesdb/s001/tif/s001-01_img.tif', 'happy'],\n",
       "       ['dataset/raw/facesdb/s001/tif/s001-02_img.tif', 'sad'],\n",
       "       ['dataset/raw/facesdb/s001/tif/s001-03_img.tif', 'surprise'],\n",
       "       ['dataset/raw/facesdb/s001/tif/s001-04_img.tif', 'angry'],\n",
       "       ['dataset/raw/facesdb/s001/tif/s001-05_img.tif', 'disgust'],\n",
       "       ['dataset/raw/facesdb/s001/tif/s001-06_img.tif', 'fear'],\n",
       "       ['dataset/raw/facesdb/s002/tif/s002-00_img.tif', 'neutral'],\n",
       "       ['dataset/raw/facesdb/s002/tif/s002-01_img.tif', 'happy'],\n",
       "       ['dataset/raw/facesdb/s002/tif/s002-02_img.tif', 'sad']],\n",
       "      dtype='<U44')"
      ]
     },
     "execution_count": 3,
     "metadata": {},
     "output_type": "execute_result"
    }
   ],
   "source": [
    "targets = {'00': 'neutral','01': 'happy','02': 'sad','03': 'surprise','04': 'angry','05': 'disgust','06': 'fear','07': 'opened','08': 'closed','09': 'kiss','10': 'left side','11': 'right side','12': 'neutral sagital left','13': 'neutral sagital right','14': 'nape','15': 'forehead'}\n",
    "subjects = os.listdir('dataset/raw/facesdb')\n",
    "helper.remove(subjects, 'desktop.ini')\n",
    "dataset = []\n",
    "for s in subjects:\n",
    "    images = os.listdir(f'dataset/raw/facesdb/{s}/tif')\n",
    "    helper.remove(images, 'desktop.ini')\n",
    "    for image in images:\n",
    "        path = f'dataset/raw/facesdb/{s}/tif/{image}'\n",
    "        target = image.split('_')[0].split('-')[1]\n",
    "        target = targets[target]\n",
    "        dataset.append([path, target])\n",
    "dataset = np.array(dataset)\n",
    "dataset = dataset[(dataset[:,1] == 'neutral') | (dataset[:,1] == 'happy') | (dataset[:,1] == 'sad') | (dataset[:,1] == 'surprise') | (dataset[:,1] == 'angry') | (dataset[:,1] == 'disgust') | (dataset[:,1] == 'fear')]\n",
    "dataset[:10]"
   ]
  },
  {
   "cell_type": "markdown",
   "metadata": {},
   "source": [
    "### Simpan csv"
   ]
  },
  {
   "cell_type": "code",
   "execution_count": 4,
   "metadata": {},
   "outputs": [
    {
     "data": {
      "text/plain": [
       "'List data tersimpan'"
      ]
     },
     "execution_count": 4,
     "metadata": {},
     "output_type": "execute_result"
    }
   ],
   "source": [
    "pd.DataFrame(dataset).to_csv('dataset/facesdb.csv', index=False, header=False, sep=';')\n",
    "'List data tersimpan'"
   ]
  },
  {
   "cell_type": "markdown",
   "metadata": {},
   "source": [
    "### Lihat data per ekspresi"
   ]
  },
  {
   "cell_type": "code",
   "execution_count": 3,
   "metadata": {},
   "outputs": [
    {
     "name": "stdout",
     "output_type": "stream",
     "text": [
      "['angry', 36]\n",
      "['disgust', 36]\n",
      "['fear', 36]\n",
      "['happy', 36]\n",
      "['neutral', 36]\n",
      "['sad', 36]\n",
      "['surprise', 36]\n"
     ]
    },
    {
     "data": {
      "text/plain": [
       "(252, 2)"
      ]
     },
     "execution_count": 3,
     "metadata": {},
     "output_type": "execute_result"
    }
   ],
   "source": [
    "dataset = np.loadtxt('dataset/facesdb.csv', delimiter=';', dtype='<U')\n",
    "ex, n = np.unique(dataset[:,1], return_counts=True)\n",
    "for c in range(n.shape[0]):\n",
    "    print([ex[c], n[c]])\n",
    "dataset.shape"
   ]
  }
 ],
 "metadata": {
  "kernelspec": {
   "display_name": "Python 3",
   "language": "python",
   "name": "python3"
  },
  "language_info": {
   "codemirror_mode": {
    "name": "ipython",
    "version": 3
   },
   "file_extension": ".py",
   "mimetype": "text/x-python",
   "name": "python",
   "nbconvert_exporter": "python",
   "pygments_lexer": "ipython3",
   "version": "3.6.6"
  }
 },
 "nbformat": 4,
 "nbformat_minor": 2
}
