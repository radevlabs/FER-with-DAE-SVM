{
 "cells": [
  {
   "cell_type": "code",
   "execution_count": 1,
   "metadata": {},
   "outputs": [
    {
     "name": "stderr",
     "output_type": "stream",
     "text": [
      "Using TensorFlow backend.\n"
     ]
    }
   ],
   "source": [
    "from sklearn.svm import SVC\n",
    "from sklearn.neural_network import MLPClassifier\n",
    "from help import helper as hp\n",
    "from help.utils import Timer\n",
    "from joblib import load, dump\n",
    "from sklearn.model_selection import KFold\n",
    "import numpy as np\n",
    "import warnings\n",
    "import os\n",
    "warnings.filterwarnings('ignore')"
   ]
  },
  {
   "cell_type": "markdown",
   "metadata": {},
   "source": [
    "### Load data"
   ]
  },
  {
   "cell_type": "code",
   "execution_count": 2,
   "metadata": {},
   "outputs": [
    {
     "data": {
      "text/plain": [
       "((11685, 14500), (11685,))"
      ]
     },
     "execution_count": 2,
     "metadata": {},
     "output_type": "execute_result"
    }
   ],
   "source": [
    "race = {\n",
    "    'asia tenggara': ['hijrah'],\n",
    "    'asia timur': ['jaffe', 'caspeal', 'nvie'],\n",
    "    'eropa utara': ['kdef'],\n",
    "    'amerika serikat': ['ck+', 'facesdb'],\n",
    "}\n",
    "\n",
    "x = []\n",
    "y = []\n",
    "for target in race:\n",
    "    for dname in race[target]:\n",
    "        dataset = load(f'dataset/vectors/ori/{dname}.jlb')[:,:-1]\n",
    "        x.extend(dataset)\n",
    "        y.extend([target] * dataset.shape[0])\n",
    "x = np.array(x)\n",
    "y = np.array(y)\n",
    "\n",
    "x.shape, y.shape"
   ]
  },
  {
   "cell_type": "code",
   "execution_count": 6,
   "metadata": {},
   "outputs": [
    {
     "name": "stdout",
     "output_type": "stream",
     "text": [
      "fold 0|acctr:100.0|acctt:99.91|3 menit 50.32 detik\n",
      "fold 1|acctr:100.0|acctt:99.96|3 menit 54.52 detik\n",
      "fold 2|acctr:100.0|acctt:99.91|3 menit 58.29 detik\n",
      "fold 3|acctr:100.0|acctt:99.91|4 menit 1.33 detik\n",
      "fold 4|acctr:100.0|acctt:99.96|3 menit 57.29 detik\n"
     ]
    }
   ],
   "source": [
    "kf = KFold(n_splits=5, random_state=43, shuffle=True)\n",
    "score = []\n",
    "learn = False\n",
    "for idx, (train_index, test_index) in enumerate(kf.split(x)):\n",
    "    if learn:\n",
    "        timer = Timer().start()\n",
    "        svm = SVC(kernel='linear')\n",
    "        svm.fit(x[train_index], y[train_index])\n",
    "        timer.end()\n",
    "        dump(svm, f'model/race/svm.linear.fold{idx}.{timer.summary(f=2)}.jlb')\n",
    "    else:\n",
    "        svmp = np.array([f'model/race/{p}' for p in os.listdir('model/race/')])\n",
    "        svmp = svmp[hp.swhere(f'fold{idx}', svmp)]\n",
    "        svm = load(svmp[0])\n",
    "    acctr = np.around(svm.score(x[train_index], y[train_index]) * 100, 2)\n",
    "    acctt = np.around(svm.score(x[test_index], y[test_index]) * 100, 2)\n",
    "    score.append(acctt)\n",
    "    print(f'fold {idx}|acctr:{acctr}|acctt:{acctt}|{timer.summary(f=2)}')"
   ]
  },
  {
   "cell_type": "code",
   "execution_count": 10,
   "metadata": {},
   "outputs": [
    {
     "data": {
      "text/plain": [
       "'99.93'"
      ]
     },
     "execution_count": 10,
     "metadata": {},
     "output_type": "execute_result"
    }
   ],
   "source": [
    "f'{np.mean(score):.2f}'"
   ]
  },
  {
   "cell_type": "code",
   "execution_count": 4,
   "metadata": {},
   "outputs": [
    {
     "name": "stdout",
     "output_type": "stream",
     "text": [
      "svm|acctr:100.0|5 menit 14.65 detik\n"
     ]
    }
   ],
   "source": [
    "timer = Timer().start()\n",
    "svm = SVC(kernel='linear')\n",
    "svm.fit(x, y)\n",
    "timer.end()\n",
    "dump(svm, f'model/race/svm.all.{timer.summary(f=2)}.jlb')\n",
    "acctr = svm.score(x, y) * 100\n",
    "print(f'svm|acctr:{acctr}|{timer.summary(f=2)}')"
   ]
  }
 ],
 "metadata": {
  "kernelspec": {
   "display_name": "Python 3",
   "language": "python",
   "name": "python3"
  },
  "language_info": {
   "codemirror_mode": {
    "name": "ipython",
    "version": 3
   },
   "file_extension": ".py",
   "mimetype": "text/x-python",
   "name": "python",
   "nbconvert_exporter": "python",
   "pygments_lexer": "ipython3",
   "version": "3.6.6"
  }
 },
 "nbformat": 4,
 "nbformat_minor": 2
}
