{
 "cells": [
  {
   "cell_type": "code",
   "execution_count": 1,
   "metadata": {},
   "outputs": [],
   "source": [
    "import os\n",
    "import pandas as pd\n",
    "import numpy as np"
   ]
  },
  {
   "cell_type": "markdown",
   "metadata": {},
   "source": [
    "### Baca path"
   ]
  },
  {
   "cell_type": "code",
   "execution_count": 2,
   "metadata": {},
   "outputs": [
    {
     "data": {
      "text/plain": [
       "array([['dataset/raw/ck+/S005/001/S005_001_00000008.png', 'disgust'],\n",
       "       ['dataset/raw/ck+/S005/001/S005_001_00000009.png', 'disgust'],\n",
       "       ['dataset/raw/ck+/S005/001/S005_001_00000010.png', 'disgust'],\n",
       "       ...,\n",
       "       ['dataset/raw/ck+/S999/003/S999_003_00000054.png', 'fear'],\n",
       "       ['dataset/raw/ck+/S999/003/S999_003_00000055.png', 'fear'],\n",
       "       ['dataset/raw/ck+/S999/003/S999_003_00000001.png', 'neutral']],\n",
       "      dtype='<U46')"
      ]
     },
     "execution_count": 2,
     "metadata": {},
     "output_type": "execute_result"
    }
   ],
   "source": [
    "path = 'dataset/raw/ck+/'\n",
    "people = np.array(os.listdir(path))\n",
    "dataset_dirs = []\n",
    "for person in people:\n",
    "    expressions = os.listdir(path + person)\n",
    "    for expression in expressions:\n",
    "        if expression != '.DS_Store' and expression != 'desktop.ini':\n",
    "            dir = path + person + '/' + expression + '/'\n",
    "            images = os.listdir(dir)\n",
    "            try:\n",
    "                images.remove('.DS_Store')\n",
    "            except:\n",
    "                pass\n",
    "            try:\n",
    "                images.remove('desktop.ini')\n",
    "            except:\n",
    "                pass\n",
    "            try:\n",
    "                dir_ex = open(dir + images[-1], 'r').read().replace(' ', '').replace('\\n', '')\n",
    "                dir_ex = int(dir_ex[0]) - 1\n",
    "                dirs = list(map(lambda fileimgname: [dir + fileimgname, dir_ex], images[-5:-1]))\n",
    "                dirs.append([dir + images[0], 7])\n",
    "                dataset_dirs.extend(dirs)\n",
    "            except:\n",
    "                pass\n",
    "eks = ['angry','contempt','disgust','fear','happy','sad','surprise','neutral']\n",
    "dataset_dirs = np.array([[f[0], eks[f[1]]] for f in dataset_dirs])\n",
    "dataset_dirs = dataset_dirs[dataset_dirs[:,1] != 'contempt']\n",
    "dataset_dirs"
   ]
  },
  {
   "cell_type": "markdown",
   "metadata": {},
   "source": [
    "### Simpan csv"
   ]
  },
  {
   "cell_type": "code",
   "execution_count": 3,
   "metadata": {},
   "outputs": [
    {
     "data": {
      "text/plain": [
       "'List data tersimpan'"
      ]
     },
     "execution_count": 3,
     "metadata": {},
     "output_type": "execute_result"
    }
   ],
   "source": [
    "pd.DataFrame(dataset_dirs).to_csv('dataset/ck+.csv', index=False, header=False, sep=';')\n",
    "'List data tersimpan'"
   ]
  },
  {
   "cell_type": "markdown",
   "metadata": {},
   "source": [
    "### Lihat data per ekspresi"
   ]
  },
  {
   "cell_type": "code",
   "execution_count": 4,
   "metadata": {},
   "outputs": [
    {
     "data": {
      "text/plain": [
       "((array(['angry', 'disgust', 'fear', 'happy', 'neutral', 'sad', 'surprise'],\n",
       "        dtype='<U46'),\n",
       "  array([180, 236, 100, 276, 327, 112, 332], dtype=int64)),\n",
       " (1563, 2))"
      ]
     },
     "execution_count": 4,
     "metadata": {},
     "output_type": "execute_result"
    }
   ],
   "source": [
    "dataset = np.loadtxt('dataset/ck+.csv', delimiter=';', dtype='<U')\n",
    "np.unique(dataset[:,1], return_counts=True), dataset.shape"
   ]
  }
 ],
 "metadata": {
  "kernelspec": {
   "display_name": "Python 3",
   "language": "python",
   "name": "python3"
  },
  "language_info": {
   "codemirror_mode": {
    "name": "ipython",
    "version": 3
   },
   "file_extension": ".py",
   "mimetype": "text/x-python",
   "name": "python",
   "nbconvert_exporter": "python",
   "pygments_lexer": "ipython3",
   "version": "3.6.6"
  }
 },
 "nbformat": 4,
 "nbformat_minor": 2
}
