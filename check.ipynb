{
 "cells": [
  {
   "cell_type": "code",
   "execution_count": 15,
   "metadata": {},
   "outputs": [
    {
     "name": "stdout",
     "output_type": "stream",
     "text": [
      "deteksi ras : 70.00%\n",
      "terdeteksi sesuai ekspresi : 95.00%\n",
      "terdeteksi sesuai ekspresi ras : 65.00%\n",
      "semua ras : 60.00%\n"
     ]
    }
   ],
   "source": [
    "ras        = [0, 1, 1, 1, 1, 1, 1, 1, 1, 1, 1, 0, 1, 0, 1, 0, 1, 0, 0, 1]\n",
    "terdeteksi = [2, 1, 1, 1, 1, 1, 1, 1, 1, 1, 0, 2, 1, 2, 1, 2, 1, 2, 2, 1]\n",
    "semua      = [0, 1, 1, 1, 0, 1, 0, 0, 0, 0, 0, 1, 1, 0, 1, 1, 1, 1, 1, 1]\n",
    "print(f'deteksi ras : {ras.count(1) / 20 * 100:.2f}%')\n",
    "print(f'terdeteksi sesuai ekspresi : {(20 - terdeteksi.count(0)) / 20 * 100:.2f}%')\n",
    "print(f'terdeteksi sesuai ekspresi ras : {terdeteksi.count(1) / 20 * 100:.2f}%')\n",
    "print(f'semua ras : {semua.count(1) / 20 * 100:.2f}%')"
   ]
  },
  {
   "cell_type": "code",
   "execution_count": 22,
   "metadata": {},
   "outputs": [],
   "source": [
    "import cv2\n",
    "from scipy.ndimage import rotate\n",
    "\n",
    "def augmentate(img):\n",
    "    return np.array([\n",
    "        img,\n",
    "        rotate(img, 90),\n",
    "        rotate(img, 180),\n",
    "        rotate(img, 270),\n",
    "        cv2.flip(img, 0),\n",
    "        cv2.flip(img, 1)\n",
    "    ])\n",
    "\n",
    "imgs = augmentate(cv2.imread('dataset/dump/haar/caspeal/angry_00000.t.png'))"
   ]
  },
  {
   "cell_type": "code",
   "execution_count": 2,
   "metadata": {},
   "outputs": [
    {
     "name": "stdout",
     "output_type": "stream",
     "text": [
      "4.0.1\n"
     ]
    },
    {
     "ename": "AttributeError",
     "evalue": "module 'cv2.cv2' has no attribute 'xfeatures2d'",
     "output_type": "error",
     "traceback": [
      "\u001b[1;31m---------------------------------------------------------------------------\u001b[0m",
      "\u001b[1;31mAttributeError\u001b[0m                            Traceback (most recent call last)",
      "\u001b[1;32m<ipython-input-2-51cedbdba684>\u001b[0m in \u001b[0;36m<module>\u001b[1;34m\u001b[0m\n\u001b[0;32m      5\u001b[0m \u001b[0mimg\u001b[0m \u001b[1;33m=\u001b[0m \u001b[0mcv\u001b[0m\u001b[1;33m.\u001b[0m\u001b[0mimread\u001b[0m\u001b[1;33m(\u001b[0m\u001b[1;34m'dataset/dump/haar/caspeal/angry_00000.t.png'\u001b[0m\u001b[1;33m)\u001b[0m\u001b[1;33m\u001b[0m\u001b[0m\n\u001b[0;32m      6\u001b[0m \u001b[0mgray\u001b[0m\u001b[1;33m=\u001b[0m \u001b[0mcv\u001b[0m\u001b[1;33m.\u001b[0m\u001b[0mcvtColor\u001b[0m\u001b[1;33m(\u001b[0m\u001b[0mimg\u001b[0m\u001b[1;33m,\u001b[0m\u001b[0mcv\u001b[0m\u001b[1;33m.\u001b[0m\u001b[0mCOLOR_BGR2GRAY\u001b[0m\u001b[1;33m)\u001b[0m\u001b[1;33m\u001b[0m\u001b[0m\n\u001b[1;32m----> 7\u001b[1;33m \u001b[0msift\u001b[0m \u001b[1;33m=\u001b[0m \u001b[0mcv\u001b[0m\u001b[1;33m.\u001b[0m\u001b[0mxfeatures2d\u001b[0m\u001b[1;33m.\u001b[0m\u001b[0mSIFT_create\u001b[0m\u001b[1;33m(\u001b[0m\u001b[1;33m)\u001b[0m\u001b[1;33m\u001b[0m\u001b[0m\n\u001b[0m\u001b[0;32m      8\u001b[0m \u001b[0mkp\u001b[0m \u001b[1;33m=\u001b[0m \u001b[0msift\u001b[0m\u001b[1;33m.\u001b[0m\u001b[0mdetect\u001b[0m\u001b[1;33m(\u001b[0m\u001b[0mgray\u001b[0m\u001b[1;33m,\u001b[0m\u001b[1;32mNone\u001b[0m\u001b[1;33m)\u001b[0m\u001b[1;33m\u001b[0m\u001b[0m\n\u001b[0;32m      9\u001b[0m \u001b[0mimg\u001b[0m\u001b[1;33m=\u001b[0m\u001b[0mcv\u001b[0m\u001b[1;33m.\u001b[0m\u001b[0mdrawKeypoints\u001b[0m\u001b[1;33m(\u001b[0m\u001b[0mgray\u001b[0m\u001b[1;33m,\u001b[0m\u001b[0mkp\u001b[0m\u001b[1;33m,\u001b[0m\u001b[0mimg\u001b[0m\u001b[1;33m)\u001b[0m\u001b[1;33m\u001b[0m\u001b[0m\n",
      "\u001b[1;31mAttributeError\u001b[0m: module 'cv2.cv2' has no attribute 'xfeatures2d'"
     ]
    }
   ],
   "source": [
    "import numpy as np\n",
    "import cv2 as cv\n",
    "import matplotlib.pyplot as plt\n",
    "print(cv.__version__)\n",
    "img = cv.imread('dataset/dump/haar/caspeal/angry_00000.t.png')\n",
    "gray= cv.cvtColor(img,cv.COLOR_BGR2GRAY)\n",
    "sift = cv.xfeatures2d.SIFT_create()\n",
    "kp = sift.detect(gray,None)\n",
    "img=cv.drawKeypoints(gray,kp,img)\n",
    "plt.imshow(img)"
   ]
  },
  {
   "cell_type": "code",
   "execution_count": 2,
   "metadata": {},
   "outputs": [
    {
     "data": {
      "text/plain": [
       "array(['1000-550', '1000-540', '1000-530', '1000-520', '1000-510',\n",
       "       '1000-500', '1000-490', '1000-480', '1000-470', '1000-460',\n",
       "       '1000-450'], dtype='<U8')"
      ]
     },
     "execution_count": 2,
     "metadata": {},
     "output_type": "execute_result"
    }
   ],
   "source": [
    "from help import helper as hp\n",
    "hp.aemodels(cfrom=550, cto=450, cstep=10, n_layer=1) # all\n",
    "hp.aemodels(hfrom=1000, hto=1000, hstep=1, cfrom=500, cto=400, cstep=10, n_layer=2) # race Asia Tenggara\n",
    "hp.aemodels(cfrom=450, cto=350, cstep=10, n_layer=1) # race Asia Timur\n",
    "hp.aemodels(hfrom=1000, hto=1000, hstep=1, cfrom=550, cto=450, cstep=10, n_layer=2) # Eropa Utara"
   ]
  },
  {
   "cell_type": "code",
   "execution_count": 9,
   "metadata": {},
   "outputs": [
    {
     "name": "stdout",
     "output_type": "stream",
     "text": [
      "9tes"
     ]
    }
   ],
   "source": [
    "import time\n",
    "import sys\n",
    "for c in range(10):\n",
    "    sys.stdout.write(f'{c}')\n",
    "    time.sleep(0.1)\n",
    "    sys.stdout.write(f'\\r{c}tes')"
   ]
  },
  {
   "cell_type": "code",
   "execution_count": 44,
   "metadata": {},
   "outputs": [
    {
     "data": {
      "text/plain": [
       "(2, 2)"
      ]
     },
     "execution_count": 44,
     "metadata": {},
     "output_type": "execute_result"
    }
   ],
   "source": [
    "import numpy as np\n",
    "from skimage.util.shape import view_as_blocks\n",
    "def blocks(arr, size):\n",
    "    arr = np.array(arr)\n",
    "    y = np.ceil(arr.shape[0] / size[0]).astype(np.int)\n",
    "    x = np.ceil(arr.shape[1] / size[1]).astype(np.int)\n",
    "    views = []\n",
    "    for i in range(y):\n",
    "        view = []\n",
    "        for j in range(x):\n",
    "            view.append(arr[i * size[0]:(i + 1) * size[0], j * size[1]:(j + 1) * size[1]])\n",
    "        views.append(view)\n",
    "    return np.array(views)\n",
    "\n",
    "arr = np.arange(16).reshape([4,4])\n",
    "blocks(arr, size=(3,3)).shape"
   ]
  },
  {
   "cell_type": "code",
   "execution_count": 2,
   "metadata": {},
   "outputs": [
    {
     "name": "stdout",
     "output_type": "stream",
     "text": [
      "5,0038 detik\n"
     ]
    }
   ],
   "source": [
    "from joblib import Parallel, delayed\n",
    "from help.utils import Timer\n",
    "import numpy as np\n",
    "import time\n",
    "\n",
    "def square_int(i):\n",
    "    time.sleep(0.5)\n",
    "    return i * i\n",
    "\n",
    "results = []\n",
    "var = np.arange(10)\n",
    "\n",
    "parallel = False\n",
    "\n",
    "timer = Timer().start()\n",
    "if parallel:\n",
    "    results = Parallel(n_jobs=-1, backend='threading')(delayed(square_int)(i) for i in var)\n",
    "else:\n",
    "    for i in var:\n",
    "        results.append(square_int(i))\n",
    "result = np.array(results)\n",
    "\n",
    "print(timer.end().summary(f=5,comma=','))"
   ]
  },
  {
   "cell_type": "code",
   "execution_count": 2,
   "metadata": {},
   "outputs": [
    {
     "data": {
      "text/plain": [
       "[name: \"/device:CPU:0\"\n",
       " device_type: \"CPU\"\n",
       " memory_limit: 268435456\n",
       " locality {\n",
       " }\n",
       " incarnation: 4455389041106034753, name: \"/device:GPU:0\"\n",
       " device_type: \"GPU\"\n",
       " memory_limit: 78590771\n",
       " locality {\n",
       "   bus_id: 1\n",
       " }\n",
       " incarnation: 13081906192276611156\n",
       " physical_device_desc: \"device: 0, name: GeForce GTX 1060, pci bus id: 0000:01:00.0, compute capability: 6.1\"]"
      ]
     },
     "execution_count": 2,
     "metadata": {},
     "output_type": "execute_result"
    }
   ],
   "source": [
    "from tensorflow.python.client import device_lib\n",
    "device_lib.list_local_devices()"
   ]
  },
  {
   "cell_type": "code",
   "execution_count": 3,
   "metadata": {},
   "outputs": [
    {
     "name": "stdout",
     "output_type": "stream",
     "text": [
      "[[22. 28.]\n",
      " [49. 64.]]\n"
     ]
    }
   ],
   "source": [
    "import tensorflow as tf\n",
    "# Creates a graph.\n",
    "a = tf.constant([1.0, 2.0, 3.0, 4.0, 5.0, 6.0], shape=[2, 3], name='a')\n",
    "b = tf.constant([1.0, 2.0, 3.0, 4.0, 5.0, 6.0], shape=[3, 2], name='b')\n",
    "c = tf.matmul(a, b)\n",
    "# Creates a session with log_device_placement set to True.\n",
    "sess = tf.Session(config=tf.ConfigProto(log_device_placement=True))\n",
    "# Runs the op.\n",
    "print(sess.run(c))"
   ]
  },
  {
   "cell_type": "code",
   "execution_count": 1,
   "metadata": {},
   "outputs": [
    {
     "name": "stdout",
     "output_type": "stream",
     "text": [
      "GPU found\n"
     ]
    }
   ],
   "source": [
    "import os\n",
    "import tensorflow as tf\n",
    "\n",
    "# os.environ['CUDA_VISIBLE_DEVICES'] = '-1'\n",
    "\n",
    "if tf.test.gpu_device_name():\n",
    "    print('GPU found')\n",
    "else:\n",
    "    print(\"No GPU found\")"
   ]
  }
 ],
 "metadata": {
  "kernelspec": {
   "display_name": "Python 3",
   "language": "python",
   "name": "python3"
  },
  "language_info": {
   "codemirror_mode": {
    "name": "ipython",
    "version": 3
   },
   "file_extension": ".py",
   "mimetype": "text/x-python",
   "name": "python",
   "nbconvert_exporter": "python",
   "pygments_lexer": "ipython3",
   "version": "3.6.6"
  }
 },
 "nbformat": 4,
 "nbformat_minor": 2
}
